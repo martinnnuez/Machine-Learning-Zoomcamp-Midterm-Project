{
 "cells": [
  {
   "cell_type": "markdown",
   "id": "4b74b1ba",
   "metadata": {},
   "source": [
    "# Build bento model maintenance"
   ]
  },
  {
   "cell_type": "markdown",
   "id": "4525761d",
   "metadata": {},
   "source": [
    "The best model obtained in the notebook, which was the XGBoost model, will be build into a bento model, thats the reason of this notebook."
   ]
  },
  {
   "cell_type": "markdown",
   "id": "b0349074",
   "metadata": {},
   "source": [
    "## Load libraries"
   ]
  },
  {
   "cell_type": "markdown",
   "id": "ffcfbb5b",
   "metadata": {},
   "source": [
    "The following libraries are needed to create the bento model"
   ]
  },
  {
   "cell_type": "code",
   "execution_count": 1,
   "id": "29a8e4f9",
   "metadata": {},
   "outputs": [],
   "source": [
    "# Imports \n",
    "import pickle\n",
    "\n",
    "import pandas as pd\n",
    "import numpy as np\n",
    "\n",
    "import random\n",
    "# Encoders \n",
    "from sklearn.model_selection import train_test_split\n",
    "from sklearn.preprocessing import StandardScaler\n",
    "from category_encoders import TargetEncoder\n",
    "from sklearn.feature_extraction import DictVectorizer\n",
    "\n",
    "# Metrics and Cross validation\n",
    "from sklearn.metrics import accuracy_score\n",
    "from sklearn.metrics import precision_score\n",
    "from sklearn.metrics import recall_score\n",
    "from sklearn.metrics import f1_score\n",
    "from sklearn.metrics import log_loss\n",
    "\n",
    "# Predictive model\n",
    "from lightgbm import LGBMClassifier\n",
    "\n",
    "import bentoml "
   ]
  },
  {
   "cell_type": "markdown",
   "id": "161fc1d6",
   "metadata": {},
   "source": [
    "## Load the data"
   ]
  },
  {
   "cell_type": "markdown",
   "id": "c07050c7",
   "metadata": {},
   "source": [
    "First lets load the data into a pandas DataFrame"
   ]
  },
  {
   "cell_type": "code",
   "execution_count": 2,
   "id": "7004d7b8",
   "metadata": {},
   "outputs": [],
   "source": [
    "datos = pd.read_csv('salary.csv')"
   ]
  },
  {
   "cell_type": "markdown",
   "id": "4bebc9f0",
   "metadata": {},
   "source": [
    "## Data preparation"
   ]
  },
  {
   "cell_type": "markdown",
   "id": "7bc0c5a0",
   "metadata": {},
   "source": [
    "Let's prepare the data as we did in the notebook file"
   ]
  },
  {
   "cell_type": "code",
   "execution_count": 3,
   "id": "d1cabaa1",
   "metadata": {},
   "outputs": [
    {
     "name": "stderr",
     "output_type": "stream",
     "text": [
      "/home/martin/anaconda3/envs/ml-course/lib/python3.9/site-packages/category_encoders/target_encoder.py:122: FutureWarning: Default parameter min_samples_leaf will change in version 2.6.See https://github.com/scikit-learn-contrib/category_encoders/issues/327\n",
      "  warnings.warn(\"Default parameter min_samples_leaf will change in version 2.6.\"\n",
      "/home/martin/anaconda3/envs/ml-course/lib/python3.9/site-packages/category_encoders/target_encoder.py:127: FutureWarning: Default parameter smoothing will change in version 2.6.See https://github.com/scikit-learn-contrib/category_encoders/issues/327\n",
      "  warnings.warn(\"Default parameter smoothing will change in version 2.6.\"\n",
      "/home/martin/anaconda3/envs/ml-course/lib/python3.9/site-packages/category_encoders/target_encoder.py:122: FutureWarning: Default parameter min_samples_leaf will change in version 2.6.See https://github.com/scikit-learn-contrib/category_encoders/issues/327\n",
      "  warnings.warn(\"Default parameter min_samples_leaf will change in version 2.6.\"\n",
      "/home/martin/anaconda3/envs/ml-course/lib/python3.9/site-packages/category_encoders/target_encoder.py:127: FutureWarning: Default parameter smoothing will change in version 2.6.See https://github.com/scikit-learn-contrib/category_encoders/issues/327\n",
      "  warnings.warn(\"Default parameter smoothing will change in version 2.6.\"\n",
      "/home/martin/anaconda3/envs/ml-course/lib/python3.9/site-packages/category_encoders/target_encoder.py:122: FutureWarning: Default parameter min_samples_leaf will change in version 2.6.See https://github.com/scikit-learn-contrib/category_encoders/issues/327\n",
      "  warnings.warn(\"Default parameter min_samples_leaf will change in version 2.6.\"\n",
      "/home/martin/anaconda3/envs/ml-course/lib/python3.9/site-packages/category_encoders/target_encoder.py:127: FutureWarning: Default parameter smoothing will change in version 2.6.See https://github.com/scikit-learn-contrib/category_encoders/issues/327\n",
      "  warnings.warn(\"Default parameter smoothing will change in version 2.6.\"\n"
     ]
    }
   ],
   "source": [
    "datos = datos.replace(\" ?\", np.nan)\n",
    "\n",
    "# NA values imputation\n",
    "datos[\"native-country\"] = datos[\"native-country\"].replace(np.nan,\" United-States\")\n",
    "datos[\"workclass\"] = datos[\"workclass\"].replace(np.nan,\" Private\")\n",
    "\n",
    "male = datos[\"sex\"] == ' Male'\n",
    "female = datos[\"sex\"] == ' Female'\n",
    "nans = datos['occupation'].isna()\n",
    "na_male = np.logical_and(male, nans)\n",
    "na_female = np.logical_and(female, nans)\n",
    "length_male = sum(na_male)\n",
    "length_female = sum(na_female)\n",
    "replacement_male = random.choices([\" Craft-repair\",\" Exec-managerial\",\" Prof-specialty\",\" Sales\"], weights=[.25, .25,.25, .25], k=length_male)\n",
    "replacement_female = random.choices([\" Adm-clerical\",\" Other-service\",\" Prof-specialty\",\" Sales\"], weights=[.25, .25,.25, .25], k=length_female)\n",
    "datos.loc[na_male,'occupation'] = replacement_male\n",
    "datos.loc[na_female,'occupation'] = replacement_female\n",
    "\n",
    "# Filter hours lower than 0\n",
    "datos = datos[datos[\"hours-per-week\"] > 0]\n",
    "\n",
    "# Create new variable\n",
    "datos[\"capital-total\"] = datos[\"capital-gain\"] - datos[\"capital-loss\"]  \n",
    "\n",
    "# Factorize target variable\n",
    "datos['salary-num'] = pd.factorize(datos.salary)[0]\n",
    "\n",
    "# Preparing data for training\n",
    "df_proc=datos.drop([\"salary\",\"education\"], axis=1)\n",
    "\n",
    "# Numerical scaler\n",
    "numericas = [\"age\",\"fnlwgt\",\"capital-gain\",\"capital-loss\",\"hours-per-week\",\"capital-total\"] \n",
    "scaler = StandardScaler()\n",
    "scaler.fit(df_proc[numericas])\n",
    "df_proc[numericas]=scaler.transform(df_proc[numericas])\n",
    "\n",
    "# Categorical target encoders\n",
    "encoder_NC = TargetEncoder()\n",
    "encoder_NC.fit(df_proc['native-country'], df_proc['salary-num'])\n",
    "df_proc['native-country'] = encoder_NC.fit_transform(df_proc['native-country'], df_proc['salary-num'])\n",
    "\n",
    "encoder_W = TargetEncoder()\n",
    "encoder_W.fit(df_proc['workclass'], df_proc['salary-num'])\n",
    "df_proc['workclass'] = encoder_W.fit_transform(df_proc['workclass'], df_proc['salary-num'])\n",
    "\n",
    "encoder_R = TargetEncoder()\n",
    "encoder_R.fit(df_proc['race'], df_proc['salary-num'])\n",
    "df_proc['race'] = encoder_R.fit_transform(df_proc['race'], df_proc['salary-num'])\n",
    "\n",
    "# Data split into features and target\n",
    "X = df_proc.loc[:, df_proc.columns != \"salary-num\"]\n",
    "y = df_proc[\"salary-num\"]\n",
    "\n",
    "# Dict vectorizer for the rest of the categorical variables\n",
    "# Numerical variables at this step\n",
    "numerical = [\"age\",\"fnlwgt\",\"capital-gain\",\"capital-loss\",\"hours-per-week\",\"capital-total\",\"education-num\",\"race\",\"native-country\",\"workclass\"]\n",
    "# Categorical variables in which I want to perform DictVectorizer, so as to save the model and use it in the future. \n",
    "categorical = [\"marital-status\",\"occupation\",\"relationship\",\"sex\"]\n",
    "dicts = X[categorical + numerical].to_dict(orient='records')\n",
    "dv = DictVectorizer(sparse=False)\n",
    "X = dv.fit_transform(dicts)"
   ]
  },
  {
   "cell_type": "markdown",
   "id": "c4935134",
   "metadata": {},
   "source": [
    "Now let's split the data into the train and test sets."
   ]
  },
  {
   "cell_type": "code",
   "execution_count": 4,
   "id": "c26c98c9",
   "metadata": {},
   "outputs": [],
   "source": [
    "X_train, X_test, y_train, y_test = train_test_split(X, y, test_size=0.2, random_state=1, stratify=y)"
   ]
  },
  {
   "cell_type": "markdown",
   "id": "86da84c2",
   "metadata": {},
   "source": [
    "## LightGBM"
   ]
  },
  {
   "cell_type": "markdown",
   "id": "529eeabe",
   "metadata": {},
   "source": [
    "Now let's train the model"
   ]
  },
  {
   "cell_type": "code",
   "execution_count": 5,
   "id": "e9859d60",
   "metadata": {},
   "outputs": [
    {
     "data": {
      "text/html": [
       "<style>#sk-container-id-1 {color: black;background-color: white;}#sk-container-id-1 pre{padding: 0;}#sk-container-id-1 div.sk-toggleable {background-color: white;}#sk-container-id-1 label.sk-toggleable__label {cursor: pointer;display: block;width: 100%;margin-bottom: 0;padding: 0.3em;box-sizing: border-box;text-align: center;}#sk-container-id-1 label.sk-toggleable__label-arrow:before {content: \"▸\";float: left;margin-right: 0.25em;color: #696969;}#sk-container-id-1 label.sk-toggleable__label-arrow:hover:before {color: black;}#sk-container-id-1 div.sk-estimator:hover label.sk-toggleable__label-arrow:before {color: black;}#sk-container-id-1 div.sk-toggleable__content {max-height: 0;max-width: 0;overflow: hidden;text-align: left;background-color: #f0f8ff;}#sk-container-id-1 div.sk-toggleable__content pre {margin: 0.2em;color: black;border-radius: 0.25em;background-color: #f0f8ff;}#sk-container-id-1 input.sk-toggleable__control:checked~div.sk-toggleable__content {max-height: 200px;max-width: 100%;overflow: auto;}#sk-container-id-1 input.sk-toggleable__control:checked~label.sk-toggleable__label-arrow:before {content: \"▾\";}#sk-container-id-1 div.sk-estimator input.sk-toggleable__control:checked~label.sk-toggleable__label {background-color: #d4ebff;}#sk-container-id-1 div.sk-label input.sk-toggleable__control:checked~label.sk-toggleable__label {background-color: #d4ebff;}#sk-container-id-1 input.sk-hidden--visually {border: 0;clip: rect(1px 1px 1px 1px);clip: rect(1px, 1px, 1px, 1px);height: 1px;margin: -1px;overflow: hidden;padding: 0;position: absolute;width: 1px;}#sk-container-id-1 div.sk-estimator {font-family: monospace;background-color: #f0f8ff;border: 1px dotted black;border-radius: 0.25em;box-sizing: border-box;margin-bottom: 0.5em;}#sk-container-id-1 div.sk-estimator:hover {background-color: #d4ebff;}#sk-container-id-1 div.sk-parallel-item::after {content: \"\";width: 100%;border-bottom: 1px solid gray;flex-grow: 1;}#sk-container-id-1 div.sk-label:hover label.sk-toggleable__label {background-color: #d4ebff;}#sk-container-id-1 div.sk-serial::before {content: \"\";position: absolute;border-left: 1px solid gray;box-sizing: border-box;top: 0;bottom: 0;left: 50%;z-index: 0;}#sk-container-id-1 div.sk-serial {display: flex;flex-direction: column;align-items: center;background-color: white;padding-right: 0.2em;padding-left: 0.2em;position: relative;}#sk-container-id-1 div.sk-item {position: relative;z-index: 1;}#sk-container-id-1 div.sk-parallel {display: flex;align-items: stretch;justify-content: center;background-color: white;position: relative;}#sk-container-id-1 div.sk-item::before, #sk-container-id-1 div.sk-parallel-item::before {content: \"\";position: absolute;border-left: 1px solid gray;box-sizing: border-box;top: 0;bottom: 0;left: 50%;z-index: -1;}#sk-container-id-1 div.sk-parallel-item {display: flex;flex-direction: column;z-index: 1;position: relative;background-color: white;}#sk-container-id-1 div.sk-parallel-item:first-child::after {align-self: flex-end;width: 50%;}#sk-container-id-1 div.sk-parallel-item:last-child::after {align-self: flex-start;width: 50%;}#sk-container-id-1 div.sk-parallel-item:only-child::after {width: 0;}#sk-container-id-1 div.sk-dashed-wrapped {border: 1px dashed gray;margin: 0 0.4em 0.5em 0.4em;box-sizing: border-box;padding-bottom: 0.4em;background-color: white;}#sk-container-id-1 div.sk-label label {font-family: monospace;font-weight: bold;display: inline-block;line-height: 1.2em;}#sk-container-id-1 div.sk-label-container {text-align: center;}#sk-container-id-1 div.sk-container {/* jupyter's `normalize.less` sets `[hidden] { display: none; }` but bootstrap.min.css set `[hidden] { display: none !important; }` so we also need the `!important` here to be able to override the default hidden behavior on the sphinx rendered scikit-learn.org. See: https://github.com/scikit-learn/scikit-learn/issues/21755 */display: inline-block !important;position: relative;}#sk-container-id-1 div.sk-text-repr-fallback {display: none;}</style><div id=\"sk-container-id-1\" class=\"sk-top-container\"><div class=\"sk-text-repr-fallback\"><pre>LGBMClassifier(learning_rate=0.05, min_child_samples=5, n_estimators=200,\n",
       "               num_leaves=35, reg_alpha=0.01)</pre><b>In a Jupyter environment, please rerun this cell to show the HTML representation or trust the notebook. <br />On GitHub, the HTML representation is unable to render, please try loading this page with nbviewer.org.</b></div><div class=\"sk-container\" hidden><div class=\"sk-item\"><div class=\"sk-estimator sk-toggleable\"><input class=\"sk-toggleable__control sk-hidden--visually\" id=\"sk-estimator-id-1\" type=\"checkbox\" checked><label for=\"sk-estimator-id-1\" class=\"sk-toggleable__label sk-toggleable__label-arrow\">LGBMClassifier</label><div class=\"sk-toggleable__content\"><pre>LGBMClassifier(learning_rate=0.05, min_child_samples=5, n_estimators=200,\n",
       "               num_leaves=35, reg_alpha=0.01)</pre></div></div></div></div></div>"
      ],
      "text/plain": [
       "LGBMClassifier(learning_rate=0.05, min_child_samples=5, n_estimators=200,\n",
       "               num_leaves=35, reg_alpha=0.01)"
      ]
     },
     "execution_count": 5,
     "metadata": {},
     "output_type": "execute_result"
    }
   ],
   "source": [
    "model = LGBMClassifier(\n",
    "    learning_rate= 0.05,\n",
    "    max_depth =-1, \n",
    "    min_child_samples= 5,\n",
    "    n_estimators= 200,\n",
    "    num_leaves=  35,\n",
    "    reg_alpha =0.01)\n",
    "\n",
    "model.fit(X_train, y_train)"
   ]
  },
  {
   "cell_type": "markdown",
   "id": "3454a29e",
   "metadata": {},
   "source": [
    "## BentoML"
   ]
  },
  {
   "cell_type": "markdown",
   "id": "2704b937",
   "metadata": {},
   "source": [
    "Finally let's save the model into the bentoml.yaml file"
   ]
  },
  {
   "cell_type": "code",
   "execution_count": 7,
   "id": "ffd04f8a",
   "metadata": {},
   "outputs": [
    {
     "data": {
      "text/plain": [
       "Model(tag=\"salary_predict_model:fropptde5o6ipy2k\", path=\"/home/martin/bentoml/models/salary_predict_model/fropptde5o6ipy2k/\")"
      ]
     },
     "execution_count": 7,
     "metadata": {},
     "output_type": "execute_result"
    }
   ],
   "source": [
    "bentoml.lightgbm.save_model(\n",
    "    'salary_predict_model',\n",
    "    model,\n",
    "    custom_objects={\n",
    "        'dictVectorizer': dv,\n",
    "        \"encoder_NC\":encoder_NC,\n",
    "        \"encoder_W\":encoder_W,\n",
    "        \"encoder_R\":encoder_R,\n",
    "        \"scaler\":scaler\n",
    "    },\n",
    "    signatures={\n",
    "        'predict': {\n",
    "            'batchable': True,\n",
    "            'batch_dim': 0,\n",
    "        }\n",
    "    }\n",
    ")"
   ]
  }
 ],
 "metadata": {
  "kernelspec": {
   "display_name": "Python 3.9.13 ('ml-course')",
   "language": "python",
   "name": "python3"
  },
  "language_info": {
   "codemirror_mode": {
    "name": "ipython",
    "version": 3
   },
   "file_extension": ".py",
   "mimetype": "text/x-python",
   "name": "python",
   "nbconvert_exporter": "python",
   "pygments_lexer": "ipython3",
   "version": "3.9.13"
  },
  "vscode": {
   "interpreter": {
    "hash": "01be8d091292fd149de7e6b1d36701349e6795ad56fd814c98a7c335e372b952"
   }
  }
 },
 "nbformat": 4,
 "nbformat_minor": 5
}
