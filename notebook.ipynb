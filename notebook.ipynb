{
 "cells": [
  {
   "cell_type": "markdown",
   "id": "f4fc2ea5",
   "metadata": {},
   "source": [
    "# Midterm project\n",
    "\n",
    "## Objectives \n",
    "\n",
    "* Think of a problem that's interesting for you and find a dataset for that\n",
    "* Describe this problem and explain how a model could be used\n",
    "* Prepare the data and doing EDA, analyze important features\n",
    "* Train multiple models, tune their performance and select the best model\n",
    "* Export the notebook into a script\n",
    "* Put your model into a web service and deploy it locally with Docker\n",
    "* Bonus points for deploying the service to the cloud\n",
    "\n",
    "### Think of a problem that's interesting for you and find a dataset for that\n",
    "\n",
    "    As I do not have much experience with classification problems, I am interested in choosing a problem of this type so as to gain more confidence in analysing this type of data.  I have been exploring many keaggle classification competitions and I have reached the Salary Prediction Classification which seems to be a nice problem to work on. \n",
    "    \n",
    "### Describe this problem and explain how a model could be used\n",
    "\n",
    "    This database consist of an extraction made by Barry Becker from the 1994 U.S. census database, and the prediction task is to determine whether a person makes over 50K a year. This problmes it is a binary classification problem where the objective class distribution is imbalanced. The dataset consists of 14 input variables where we can find categorical, ordinal, and numerical data. The complete list of variables is:\n",
    "* Age.\n",
    "* Workclass.\n",
    "* Final Weight.\n",
    "* Education.\n",
    "* Education Number of Years.\n",
    "* Marital-status.\n",
    "* Occupation.\n",
    "* Relationship.\n",
    "* Race.\n",
    "* Sex.\n",
    "* Capital-gain.\n",
    "* Capital-loss.\n",
    "* Hours-per-week.\n",
    "* Native-country.\n",
    "* Income\n",
    "\n",
    "\n",
    "### Access the data\n",
    "    https://www.kaggle.com/datasets/ayessa/salary-prediction-classification/download?datasetVersionNumber=1\n",
    "\n"
   ]
  },
  {
   "cell_type": "code",
   "execution_count": 2,
   "id": "149f660c",
   "metadata": {},
   "outputs": [
    {
     "ename": "ModuleNotFoundError",
     "evalue": "No module named 'xgboost'",
     "output_type": "error",
     "traceback": [
      "\u001b[0;31m---------------------------------------------------------------------------\u001b[0m",
      "\u001b[0;31mModuleNotFoundError\u001b[0m                       Traceback (most recent call last)",
      "\u001b[1;32m/home/martin/mlbookcamp-code/course-zoomcamp/MidtermProject/MidtermProject2.ipynb Cell 2\u001b[0m in \u001b[0;36m<cell line: 34>\u001b[0;34m()\u001b[0m\n\u001b[1;32m     <a href='vscode-notebook-cell:/home/martin/mlbookcamp-code/course-zoomcamp/MidtermProject/MidtermProject2.ipynb#W1sZmlsZQ%3D%3D?line=31'>32</a>\u001b[0m \u001b[39mfrom\u001b[39;00m \u001b[39msklearn\u001b[39;00m\u001b[39m.\u001b[39;00m\u001b[39mensemble\u001b[39;00m \u001b[39mimport\u001b[39;00m RandomForestClassifier\n\u001b[1;32m     <a href='vscode-notebook-cell:/home/martin/mlbookcamp-code/course-zoomcamp/MidtermProject/MidtermProject2.ipynb#W1sZmlsZQ%3D%3D?line=32'>33</a>\u001b[0m \u001b[39mfrom\u001b[39;00m \u001b[39msklearn\u001b[39;00m\u001b[39m.\u001b[39;00m\u001b[39mnaive_bayes\u001b[39;00m \u001b[39mimport\u001b[39;00m GaussianNB\n\u001b[0;32m---> <a href='vscode-notebook-cell:/home/martin/mlbookcamp-code/course-zoomcamp/MidtermProject/MidtermProject2.ipynb#W1sZmlsZQ%3D%3D?line=33'>34</a>\u001b[0m \u001b[39mimport\u001b[39;00m \u001b[39mxgboost\u001b[39;00m \u001b[39mas\u001b[39;00m \u001b[39mxgb\u001b[39;00m\n\u001b[1;32m     <a href='vscode-notebook-cell:/home/martin/mlbookcamp-code/course-zoomcamp/MidtermProject/MidtermProject2.ipynb#W1sZmlsZQ%3D%3D?line=34'>35</a>\u001b[0m \u001b[39mfrom\u001b[39;00m \u001b[39mxgboost\u001b[39;00m \u001b[39mimport\u001b[39;00m XGBClassifier, XGBRFClassifier\n\u001b[1;32m     <a href='vscode-notebook-cell:/home/martin/mlbookcamp-code/course-zoomcamp/MidtermProject/MidtermProject2.ipynb#W1sZmlsZQ%3D%3D?line=35'>36</a>\u001b[0m \u001b[39mfrom\u001b[39;00m \u001b[39mlightgbm\u001b[39;00m \u001b[39mimport\u001b[39;00m LGBMClassifier\n",
      "\u001b[0;31mModuleNotFoundError\u001b[0m: No module named 'xgboost'"
     ]
    }
   ],
   "source": [
    "# Imports \n",
    "import pandas as pd\n",
    "import numpy as np\n",
    "import scipy.stats as ss\n",
    "import random\n",
    "import matplotlib.pyplot as plt\n",
    "import seaborn as sns\n",
    "from category_encoders import TargetEncoder\n",
    "from sklearn.preprocessing import OneHotEncoder\n",
    "from sklearn.preprocessing import StandardScaler\n",
    "\n",
    "# Metrics and Cross validation\n",
    "from sklearn.metrics import make_scorer\n",
    "from sklearn.metrics import accuracy_score\n",
    "from sklearn.model_selection import cross_validate\n",
    "from sklearn.model_selection import train_test_split\n",
    "from sklearn.metrics import precision_score\n",
    "from sklearn.metrics import recall_score\n",
    "from sklearn.metrics import f1_score\n",
    "from sklearn.metrics import log_loss\n",
    "\n",
    "# Predictive modelling\n",
    "from sklearn import preprocessing\n",
    "from sklearn.model_selection import GridSearchCV\n",
    "from sklearn.neighbors import KNeighborsClassifier\n",
    "from sklearn.discriminant_analysis import LinearDiscriminantAnalysis, QuadraticDiscriminantAnalysis\n",
    "from sklearn.datasets import make_classification\n",
    "from sklearn.metrics import confusion_matrix, ConfusionMatrixDisplay\n",
    "from sklearn.linear_model import LogisticRegression\n",
    "from sklearn.svm import LinearSVC\n",
    "from sklearn.tree import DecisionTreeClassifier\n",
    "from sklearn.ensemble import RandomForestClassifier\n",
    "from sklearn.naive_bayes import GaussianNB\n",
    "import xgboost as xgb\n",
    "from xgboost import XGBClassifier, XGBRFClassifier\n",
    "from lightgbm import LGBMClassifier"
   ]
  },
  {
   "cell_type": "markdown",
   "id": "e0041f08",
   "metadata": {},
   "source": [
    "### Prepare the data and doing EDA, analyze important features"
   ]
  },
  {
   "cell_type": "code",
   "execution_count": 5,
   "id": "e2d5c2a0",
   "metadata": {},
   "outputs": [],
   "source": [
    "datos = pd.read_csv('/home/martin/mlbookcamp-code/course-zoomcamp/MidtermProject/salary.csv')\n",
    "# datos = pd.read_csv('C:/Users/marti/Desktop/DataScience/Sprint1/salary.csv')"
   ]
  },
  {
   "cell_type": "code",
   "execution_count": 7,
   "id": "293a5073",
   "metadata": {
    "scrolled": true
   },
   "outputs": [
    {
     "data": {
      "text/html": [
       "<div>\n",
       "<style scoped>\n",
       "    .dataframe tbody tr th:only-of-type {\n",
       "        vertical-align: middle;\n",
       "    }\n",
       "\n",
       "    .dataframe tbody tr th {\n",
       "        vertical-align: top;\n",
       "    }\n",
       "\n",
       "    .dataframe thead th {\n",
       "        text-align: right;\n",
       "    }\n",
       "</style>\n",
       "<table border=\"1\" class=\"dataframe\">\n",
       "  <thead>\n",
       "    <tr style=\"text-align: right;\">\n",
       "      <th></th>\n",
       "      <th>age</th>\n",
       "      <th>workclass</th>\n",
       "      <th>fnlwgt</th>\n",
       "      <th>education</th>\n",
       "      <th>education-num</th>\n",
       "      <th>marital-status</th>\n",
       "      <th>occupation</th>\n",
       "      <th>relationship</th>\n",
       "      <th>race</th>\n",
       "      <th>sex</th>\n",
       "      <th>capital-gain</th>\n",
       "      <th>capital-loss</th>\n",
       "      <th>hours-per-week</th>\n",
       "      <th>native-country</th>\n",
       "      <th>salary</th>\n",
       "    </tr>\n",
       "  </thead>\n",
       "  <tbody>\n",
       "    <tr>\n",
       "      <th>0</th>\n",
       "      <td>39</td>\n",
       "      <td>State-gov</td>\n",
       "      <td>77516</td>\n",
       "      <td>Bachelors</td>\n",
       "      <td>13</td>\n",
       "      <td>Never-married</td>\n",
       "      <td>Adm-clerical</td>\n",
       "      <td>Not-in-family</td>\n",
       "      <td>White</td>\n",
       "      <td>Male</td>\n",
       "      <td>2174</td>\n",
       "      <td>0</td>\n",
       "      <td>40</td>\n",
       "      <td>United-States</td>\n",
       "      <td>&lt;=50K</td>\n",
       "    </tr>\n",
       "    <tr>\n",
       "      <th>1</th>\n",
       "      <td>50</td>\n",
       "      <td>Self-emp-not-inc</td>\n",
       "      <td>83311</td>\n",
       "      <td>Bachelors</td>\n",
       "      <td>13</td>\n",
       "      <td>Married-civ-spouse</td>\n",
       "      <td>Exec-managerial</td>\n",
       "      <td>Husband</td>\n",
       "      <td>White</td>\n",
       "      <td>Male</td>\n",
       "      <td>0</td>\n",
       "      <td>0</td>\n",
       "      <td>13</td>\n",
       "      <td>United-States</td>\n",
       "      <td>&lt;=50K</td>\n",
       "    </tr>\n",
       "    <tr>\n",
       "      <th>2</th>\n",
       "      <td>38</td>\n",
       "      <td>Private</td>\n",
       "      <td>215646</td>\n",
       "      <td>HS-grad</td>\n",
       "      <td>9</td>\n",
       "      <td>Divorced</td>\n",
       "      <td>Handlers-cleaners</td>\n",
       "      <td>Not-in-family</td>\n",
       "      <td>White</td>\n",
       "      <td>Male</td>\n",
       "      <td>0</td>\n",
       "      <td>0</td>\n",
       "      <td>40</td>\n",
       "      <td>United-States</td>\n",
       "      <td>&lt;=50K</td>\n",
       "    </tr>\n",
       "    <tr>\n",
       "      <th>3</th>\n",
       "      <td>53</td>\n",
       "      <td>Private</td>\n",
       "      <td>234721</td>\n",
       "      <td>11th</td>\n",
       "      <td>7</td>\n",
       "      <td>Married-civ-spouse</td>\n",
       "      <td>Handlers-cleaners</td>\n",
       "      <td>Husband</td>\n",
       "      <td>Black</td>\n",
       "      <td>Male</td>\n",
       "      <td>0</td>\n",
       "      <td>0</td>\n",
       "      <td>40</td>\n",
       "      <td>United-States</td>\n",
       "      <td>&lt;=50K</td>\n",
       "    </tr>\n",
       "    <tr>\n",
       "      <th>4</th>\n",
       "      <td>28</td>\n",
       "      <td>Private</td>\n",
       "      <td>338409</td>\n",
       "      <td>Bachelors</td>\n",
       "      <td>13</td>\n",
       "      <td>Married-civ-spouse</td>\n",
       "      <td>Prof-specialty</td>\n",
       "      <td>Wife</td>\n",
       "      <td>Black</td>\n",
       "      <td>Female</td>\n",
       "      <td>0</td>\n",
       "      <td>0</td>\n",
       "      <td>40</td>\n",
       "      <td>Cuba</td>\n",
       "      <td>&lt;=50K</td>\n",
       "    </tr>\n",
       "  </tbody>\n",
       "</table>\n",
       "</div>"
      ],
      "text/plain": [
       "   age          workclass  fnlwgt   education  education-num  \\\n",
       "0   39          State-gov   77516   Bachelors             13   \n",
       "1   50   Self-emp-not-inc   83311   Bachelors             13   \n",
       "2   38            Private  215646     HS-grad              9   \n",
       "3   53            Private  234721        11th              7   \n",
       "4   28            Private  338409   Bachelors             13   \n",
       "\n",
       "        marital-status          occupation    relationship    race      sex  \\\n",
       "0        Never-married        Adm-clerical   Not-in-family   White     Male   \n",
       "1   Married-civ-spouse     Exec-managerial         Husband   White     Male   \n",
       "2             Divorced   Handlers-cleaners   Not-in-family   White     Male   \n",
       "3   Married-civ-spouse   Handlers-cleaners         Husband   Black     Male   \n",
       "4   Married-civ-spouse      Prof-specialty            Wife   Black   Female   \n",
       "\n",
       "   capital-gain  capital-loss  hours-per-week  native-country  salary  \n",
       "0          2174             0              40   United-States   <=50K  \n",
       "1             0             0              13   United-States   <=50K  \n",
       "2             0             0              40   United-States   <=50K  \n",
       "3             0             0              40   United-States   <=50K  \n",
       "4             0             0              40            Cuba   <=50K  "
      ]
     },
     "execution_count": 7,
     "metadata": {},
     "output_type": "execute_result"
    }
   ],
   "source": [
    "datos.head(5)"
   ]
  },
  {
   "cell_type": "code",
   "execution_count": 86,
   "id": "f2b3e034",
   "metadata": {},
   "outputs": [
    {
     "data": {
      "text/plain": [
       "(32561, 15)"
      ]
     },
     "execution_count": 86,
     "metadata": {},
     "output_type": "execute_result"
    }
   ],
   "source": [
    "datos.shape"
   ]
  },
  {
   "cell_type": "code",
   "execution_count": 87,
   "id": "ce194c12",
   "metadata": {},
   "outputs": [
    {
     "data": {
      "text/plain": [
       "Index(['age', 'workclass', 'fnlwgt', 'education', 'education-num',\n",
       "       'marital-status', 'occupation', 'relationship', 'race', 'sex',\n",
       "       'capital-gain', 'capital-loss', 'hours-per-week', 'native-country',\n",
       "       'salary'],\n",
       "      dtype='object')"
      ]
     },
     "execution_count": 87,
     "metadata": {},
     "output_type": "execute_result"
    }
   ],
   "source": [
    "datos.columns"
   ]
  },
  {
   "cell_type": "code",
   "execution_count": 3,
   "id": "a5f652ed",
   "metadata": {},
   "outputs": [],
   "source": [
    "respuesta = [\"salary\"]\n",
    "numericas = [\"age\",\"fnlwgt\",\"education-num\",\"capital-gain\",\"capital-loss\",\"hours-per-week\"]\n",
    "categoricas = [\"workclass\",\"education\",\"marital-status\",\"occupation\",\"relationship\",\"race\",\"sex\",\"native-country\"]"
   ]
  },
  {
   "cell_type": "code",
   "execution_count": 89,
   "id": "92906810",
   "metadata": {},
   "outputs": [
    {
     "data": {
      "text/plain": [
       "salary\n",
       " <=50K    0.75919\n",
       " >50K     0.24081\n",
       "dtype: float64"
      ]
     },
     "execution_count": 89,
     "metadata": {},
     "output_type": "execute_result"
    }
   ],
   "source": [
    "datos[[\"salary\"]].value_counts()/datos.shape[0]"
   ]
  },
  {
   "cell_type": "markdown",
   "id": "c749a107",
   "metadata": {},
   "source": [
    "#### Exploring missing values"
   ]
  },
  {
   "cell_type": "code",
   "execution_count": 90,
   "id": "dafaa7dc",
   "metadata": {
    "scrolled": true
   },
   "outputs": [
    {
     "data": {
      "text/plain": [
       "age               0.0\n",
       "workclass         0.0\n",
       "fnlwgt            0.0\n",
       "education         0.0\n",
       "education-num     0.0\n",
       "marital-status    0.0\n",
       "occupation        0.0\n",
       "relationship      0.0\n",
       "race              0.0\n",
       "sex               0.0\n",
       "capital-gain      0.0\n",
       "capital-loss      0.0\n",
       "hours-per-week    0.0\n",
       "native-country    0.0\n",
       "salary            0.0\n",
       "dtype: float64"
      ]
     },
     "execution_count": 90,
     "metadata": {},
     "output_type": "execute_result"
    }
   ],
   "source": [
    "datos.isna().sum() / datos.shape[0]"
   ]
  },
  {
   "cell_type": "code",
   "execution_count": 91,
   "id": "3a627f68",
   "metadata": {},
   "outputs": [
    {
     "name": "stdout",
     "output_type": "stream",
     "text": [
      "workclass\n",
      "[' State-gov' ' Self-emp-not-inc' ' Private' ' Federal-gov' ' Local-gov'\n",
      " ' ?' ' Self-emp-inc' ' Without-pay' ' Never-worked']\n",
      "education\n",
      "[' Bachelors' ' HS-grad' ' 11th' ' Masters' ' 9th' ' Some-college'\n",
      " ' Assoc-acdm' ' Assoc-voc' ' 7th-8th' ' Doctorate' ' Prof-school'\n",
      " ' 5th-6th' ' 10th' ' 1st-4th' ' Preschool' ' 12th']\n",
      "marital-status\n",
      "[' Never-married' ' Married-civ-spouse' ' Divorced'\n",
      " ' Married-spouse-absent' ' Separated' ' Married-AF-spouse' ' Widowed']\n",
      "occupation\n",
      "[' Adm-clerical' ' Exec-managerial' ' Handlers-cleaners' ' Prof-specialty'\n",
      " ' Other-service' ' Sales' ' Craft-repair' ' Transport-moving'\n",
      " ' Farming-fishing' ' Machine-op-inspct' ' Tech-support' ' ?'\n",
      " ' Protective-serv' ' Armed-Forces' ' Priv-house-serv']\n",
      "relationship\n",
      "[' Not-in-family' ' Husband' ' Wife' ' Own-child' ' Unmarried'\n",
      " ' Other-relative']\n",
      "race\n",
      "[' White' ' Black' ' Asian-Pac-Islander' ' Amer-Indian-Eskimo' ' Other']\n",
      "sex\n",
      "[' Male' ' Female']\n",
      "native-country\n",
      "[' United-States' ' Cuba' ' Jamaica' ' India' ' ?' ' Mexico' ' South'\n",
      " ' Puerto-Rico' ' Honduras' ' England' ' Canada' ' Germany' ' Iran'\n",
      " ' Philippines' ' Italy' ' Poland' ' Columbia' ' Cambodia' ' Thailand'\n",
      " ' Ecuador' ' Laos' ' Taiwan' ' Haiti' ' Portugal' ' Dominican-Republic'\n",
      " ' El-Salvador' ' France' ' Guatemala' ' China' ' Japan' ' Yugoslavia'\n",
      " ' Peru' ' Outlying-US(Guam-USVI-etc)' ' Scotland' ' Trinadad&Tobago'\n",
      " ' Greece' ' Nicaragua' ' Vietnam' ' Hong' ' Ireland' ' Hungary'\n",
      " ' Holand-Netherlands']\n"
     ]
    }
   ],
   "source": [
    "# Exploring categories:\n",
    "for i in categoricas:\n",
    "    print(i)\n",
    "    print(datos[i].unique())"
   ]
  },
  {
   "cell_type": "markdown",
   "id": "4607c7b5",
   "metadata": {},
   "source": [
    "    Exploring the dataset I have realized that the missing data is encoded as \" ?\", so I am going to transform to a NA value. "
   ]
  },
  {
   "cell_type": "code",
   "execution_count": 6,
   "id": "5ceae84f",
   "metadata": {},
   "outputs": [],
   "source": [
    "datos = datos.replace(\" ?\", np.nan)"
   ]
  },
  {
   "cell_type": "code",
   "execution_count": 6,
   "id": "5f58d5ce",
   "metadata": {
    "scrolled": false
   },
   "outputs": [
    {
     "data": {
      "text/plain": [
       "age               0.000000\n",
       "workclass         5.638647\n",
       "fnlwgt            0.000000\n",
       "education         0.000000\n",
       "education-num     0.000000\n",
       "marital-status    0.000000\n",
       "occupation        5.660146\n",
       "relationship      0.000000\n",
       "race              0.000000\n",
       "sex               0.000000\n",
       "capital-gain      0.000000\n",
       "capital-loss      0.000000\n",
       "hours-per-week    0.000000\n",
       "native-country    1.790486\n",
       "salary            0.000000\n",
       "dtype: float64"
      ]
     },
     "execution_count": 6,
     "metadata": {},
     "output_type": "execute_result"
    }
   ],
   "source": [
    "(datos.isna().sum() / datos.shape[0])*100"
   ]
  },
  {
   "cell_type": "code",
   "execution_count": 94,
   "id": "e78c9e14",
   "metadata": {
    "scrolled": true
   },
   "outputs": [
    {
     "name": "stdout",
     "output_type": "stream",
     "text": [
      "workclass\n",
      "[' State-gov' ' Self-emp-not-inc' ' Private' ' Federal-gov' ' Local-gov'\n",
      " nan ' Self-emp-inc' ' Without-pay' ' Never-worked']\n",
      "education\n",
      "[' Bachelors' ' HS-grad' ' 11th' ' Masters' ' 9th' ' Some-college'\n",
      " ' Assoc-acdm' ' Assoc-voc' ' 7th-8th' ' Doctorate' ' Prof-school'\n",
      " ' 5th-6th' ' 10th' ' 1st-4th' ' Preschool' ' 12th']\n",
      "marital-status\n",
      "[' Never-married' ' Married-civ-spouse' ' Divorced'\n",
      " ' Married-spouse-absent' ' Separated' ' Married-AF-spouse' ' Widowed']\n",
      "occupation\n",
      "[' Adm-clerical' ' Exec-managerial' ' Handlers-cleaners' ' Prof-specialty'\n",
      " ' Other-service' ' Sales' ' Craft-repair' ' Transport-moving'\n",
      " ' Farming-fishing' ' Machine-op-inspct' ' Tech-support' nan\n",
      " ' Protective-serv' ' Armed-Forces' ' Priv-house-serv']\n",
      "relationship\n",
      "[' Not-in-family' ' Husband' ' Wife' ' Own-child' ' Unmarried'\n",
      " ' Other-relative']\n",
      "race\n",
      "[' White' ' Black' ' Asian-Pac-Islander' ' Amer-Indian-Eskimo' ' Other']\n",
      "sex\n",
      "[' Male' ' Female']\n",
      "native-country\n",
      "[' United-States' ' Cuba' ' Jamaica' ' India' nan ' Mexico' ' South'\n",
      " ' Puerto-Rico' ' Honduras' ' England' ' Canada' ' Germany' ' Iran'\n",
      " ' Philippines' ' Italy' ' Poland' ' Columbia' ' Cambodia' ' Thailand'\n",
      " ' Ecuador' ' Laos' ' Taiwan' ' Haiti' ' Portugal' ' Dominican-Republic'\n",
      " ' El-Salvador' ' France' ' Guatemala' ' China' ' Japan' ' Yugoslavia'\n",
      " ' Peru' ' Outlying-US(Guam-USVI-etc)' ' Scotland' ' Trinadad&Tobago'\n",
      " ' Greece' ' Nicaragua' ' Vietnam' ' Hong' ' Ireland' ' Hungary'\n",
      " ' Holand-Netherlands']\n"
     ]
    }
   ],
   "source": [
    "# Exploring categories:\n",
    "for i in categoricas:\n",
    "    print(i)\n",
    "    print(datos[i].unique())"
   ]
  },
  {
   "cell_type": "markdown",
   "id": "29af8407",
   "metadata": {},
   "source": [
    "    Nos I proceed to explore the variables that have NA values, so as to define a methodology to treat them. "
   ]
  },
  {
   "cell_type": "code",
   "execution_count": 95,
   "id": "cc0f9739",
   "metadata": {},
   "outputs": [
    {
     "data": {
      "text/plain": [
       " Private             69.703019\n",
       " Self-emp-not-inc     7.803814\n",
       " Local-gov            6.427935\n",
       " State-gov            3.986364\n",
       " Self-emp-inc         3.427413\n",
       " Federal-gov          2.948312\n",
       " Without-pay          0.042996\n",
       " Never-worked         0.021498\n",
       "Name: workclass, dtype: float64"
      ]
     },
     "execution_count": 95,
     "metadata": {},
     "output_type": "execute_result"
    }
   ],
   "source": [
    "(datos[\"workclass\"].value_counts()/datos.shape[0])*100"
   ]
  },
  {
   "cell_type": "code",
   "execution_count": 96,
   "id": "9f3baa07",
   "metadata": {},
   "outputs": [
    {
     "data": {
      "text/plain": [
       " Prof-specialty       12.714597\n",
       " Craft-repair         12.588680\n",
       " Exec-managerial      12.487331\n",
       " Adm-clerical         11.578268\n",
       " Sales                11.209729\n",
       " Other-service        10.119468\n",
       " Machine-op-inspct     6.148460\n",
       " Transport-moving      4.904641\n",
       " Handlers-cleaners     4.207487\n",
       " Farming-fishing       3.052732\n",
       " Tech-support          2.850035\n",
       " Protective-serv       1.993182\n",
       " Priv-house-serv       0.457603\n",
       " Armed-Forces          0.027640\n",
       "Name: occupation, dtype: float64"
      ]
     },
     "execution_count": 96,
     "metadata": {},
     "output_type": "execute_result"
    }
   ],
   "source": [
    "(datos[\"occupation\"].value_counts()/datos.shape[0])*100"
   ]
  },
  {
   "cell_type": "code",
   "execution_count": 97,
   "id": "580e968d",
   "metadata": {
    "scrolled": true
   },
   "outputs": [
    {
     "data": {
      "text/plain": [
       " United-States                 89.585701\n",
       " Mexico                         1.974755\n",
       " Philippines                    0.608089\n",
       " Germany                        0.420749\n",
       " Canada                         0.371610\n",
       " Puerto-Rico                    0.350112\n",
       " El-Salvador                    0.325543\n",
       " India                          0.307116\n",
       " Cuba                           0.291760\n",
       " England                        0.276404\n",
       " Jamaica                        0.248764\n",
       " South                          0.245693\n",
       " China                          0.230337\n",
       " Italy                          0.224195\n",
       " Dominican-Republic             0.214981\n",
       " Vietnam                        0.205768\n",
       " Guatemala                      0.196554\n",
       " Japan                          0.190412\n",
       " Poland                         0.184270\n",
       " Columbia                       0.181198\n",
       " Taiwan                         0.156629\n",
       " Haiti                          0.135131\n",
       " Iran                           0.132060\n",
       " Portugal                       0.113633\n",
       " Nicaragua                      0.104419\n",
       " Peru                           0.095206\n",
       " France                         0.089064\n",
       " Greece                         0.089064\n",
       " Ecuador                        0.085992\n",
       " Ireland                        0.073708\n",
       " Hong                           0.061423\n",
       " Cambodia                       0.058352\n",
       " Trinadad&Tobago                0.058352\n",
       " Laos                           0.055281\n",
       " Thailand                       0.055281\n",
       " Yugoslavia                     0.049139\n",
       " Outlying-US(Guam-USVI-etc)     0.042996\n",
       " Honduras                       0.039925\n",
       " Hungary                        0.039925\n",
       " Scotland                       0.036854\n",
       " Holand-Netherlands             0.003071\n",
       "Name: native-country, dtype: float64"
      ]
     },
     "execution_count": 97,
     "metadata": {},
     "output_type": "execute_result"
    }
   ],
   "source": [
    "(datos[\"native-country\"].value_counts()/datos.shape[0])*100"
   ]
  },
  {
   "cell_type": "markdown",
   "id": "e4f4b560",
   "metadata": {},
   "source": [
    "    We can see that for the variables workclass and native-country the most repeated category is in a far superior proportion in respect to the others, for the case of workclass this is Private which is repeated 19279 (69.70%) times compared to the second most repeated which is only 2156 (7.8%) times. For the variable native-country United-States it is repeated 24811 (89.58%),  while the second most repeated is Mexico with 532 (1.97%) repetitions. For this reason, imputing the missing values as the major category would not introduce to much noise to the database and it is the simpliest aproach I could try. \n",
    "\n",
    "    What happens with the occupation variable is different, where all of the most repeated categories are in the repeated the same number of times and therefore we must choose another method to impute the missing data, because the previous one is going to introduce too much noise to the dataset. \n",
    "\n",
    "    Moreover the variable native-country seems to be of constant variance since all the mayority of the observations 91.5% belong to the same category United States, we do not believe that its inclusion in the predictive model is relevant, besides it has 41 categories, but we have to take in to account that the predictive model is going to be far sesgated to employers that work in the U.S. . An other alternative is to exclude all the data that belong to a different country and make a predictive model specialized in predicting for the United States. \n",
    "    \n",
    "    In order to replace the missing data of the variable ocupation I am going to study the association between the other categorical variables to this one so as to explore a way of interpolating its values with respect to other variables. The way to study the association of the categorical variables is by the V of Cramér coeficient. "
   ]
  },
  {
   "cell_type": "code",
   "execution_count": 7,
   "id": "dabbeb71",
   "metadata": {},
   "outputs": [],
   "source": [
    "datos[\"native-country\"] = datos[\"native-country\"].replace(np.nan,\" United-States\")\n",
    "datos[\"workclass\"] = datos[\"workclass\"].replace(np.nan,\" Private\")"
   ]
  },
  {
   "cell_type": "code",
   "execution_count": 99,
   "id": "3032ac91",
   "metadata": {},
   "outputs": [],
   "source": [
    "def cramers_v(x, y):\n",
    "    confusion_matrix = pd.crosstab(x,y)\n",
    "    chi2 = ss.chi2_contingency(confusion_matrix)[0]\n",
    "    n = confusion_matrix.sum().sum()\n",
    "    phi2 = chi2/n\n",
    "    r,k = confusion_matrix.shape\n",
    "    phi2corr = max(0, phi2-((k-1)*(r-1))/(n-1))\n",
    "    rcorr = r-((r-1)**2)/(n-1)\n",
    "    kcorr = k-((k-1)**2)/(n-1)\n",
    "    return np.sqrt(phi2corr/min((kcorr-1),(rcorr-1)))\n",
    "\n",
    "def cramers_corrected_stat(confusion_matrix):\n",
    "    chi2 = ss.chi2_contingency(confusion_matrix)[0]\n",
    "    n = confusion_matrix.sum().sum()\n",
    "    phi2 = chi2/n\n",
    "    r,k = confusion_matrix.shape\n",
    "    phi2corr = max(0, phi2 - ((k-1)*(r-1))/(n-1))    \n",
    "    rcorr = r - ((r-1)**2)/(n-1)\n",
    "    kcorr = k - ((k-1)**2)/(n-1)\n",
    "    return np.sqrt(phi2corr / min( (kcorr-1), (rcorr-1)))"
   ]
  },
  {
   "cell_type": "code",
   "execution_count": 100,
   "id": "22f6f669",
   "metadata": {},
   "outputs": [
    {
     "name": "stdout",
     "output_type": "stream",
     "text": [
      "workclass\n",
      "0.21504685867116732\n",
      "education\n",
      "0.1962500790133617\n",
      "marital-status\n",
      "0.12989569771194034\n",
      "occupation\n",
      "1.0\n",
      "relationship\n",
      "0.17680191661980038\n",
      "race\n",
      "0.08020715739723544\n",
      "sex\n",
      "0.4337804392331305\n",
      "native-country\n",
      "0.06695667683316452\n"
     ]
    }
   ],
   "source": [
    "for i in categoricas:\n",
    "    print(i)\n",
    "    print(cramers_v(datos[\"occupation\"], datos[i]))"
   ]
  },
  {
   "cell_type": "markdown",
   "id": "896e12a1",
   "metadata": {},
   "source": [
    "    From this information we can see that the variable most closely related to occupation is sex in fist place and in second workclass, this information is going to be use to interpolate occupation's missing values.\n",
    "    I am going to proceed to analyse the value counts of the combination of these variables. "
   ]
  },
  {
   "cell_type": "code",
   "execution_count": 8,
   "id": "1110cf08",
   "metadata": {
    "scrolled": true
   },
   "outputs": [
    {
     "data": {
      "text/html": [
       "<div>\n",
       "<style scoped>\n",
       "    .dataframe tbody tr th:only-of-type {\n",
       "        vertical-align: middle;\n",
       "    }\n",
       "\n",
       "    .dataframe tbody tr th {\n",
       "        vertical-align: top;\n",
       "    }\n",
       "\n",
       "    .dataframe thead th {\n",
       "        text-align: right;\n",
       "    }\n",
       "</style>\n",
       "<table border=\"1\" class=\"dataframe\">\n",
       "  <thead>\n",
       "    <tr style=\"text-align: right;\">\n",
       "      <th></th>\n",
       "      <th>occupation</th>\n",
       "      <th>sex</th>\n",
       "      <th>size</th>\n",
       "    </tr>\n",
       "  </thead>\n",
       "  <tbody>\n",
       "    <tr>\n",
       "      <th>4</th>\n",
       "      <td>Craft-repair</td>\n",
       "      <td>Male</td>\n",
       "      <td>3877</td>\n",
       "    </tr>\n",
       "    <tr>\n",
       "      <th>6</th>\n",
       "      <td>Exec-managerial</td>\n",
       "      <td>Male</td>\n",
       "      <td>2907</td>\n",
       "    </tr>\n",
       "    <tr>\n",
       "      <th>18</th>\n",
       "      <td>Prof-specialty</td>\n",
       "      <td>Male</td>\n",
       "      <td>2625</td>\n",
       "    </tr>\n",
       "    <tr>\n",
       "      <th>0</th>\n",
       "      <td>Adm-clerical</td>\n",
       "      <td>Female</td>\n",
       "      <td>2537</td>\n",
       "    </tr>\n",
       "    <tr>\n",
       "      <th>22</th>\n",
       "      <td>Sales</td>\n",
       "      <td>Male</td>\n",
       "      <td>2387</td>\n",
       "    </tr>\n",
       "    <tr>\n",
       "      <th>13</th>\n",
       "      <td>Other-service</td>\n",
       "      <td>Female</td>\n",
       "      <td>1800</td>\n",
       "    </tr>\n",
       "    <tr>\n",
       "      <th>17</th>\n",
       "      <td>Prof-specialty</td>\n",
       "      <td>Female</td>\n",
       "      <td>1515</td>\n",
       "    </tr>\n",
       "    <tr>\n",
       "      <th>26</th>\n",
       "      <td>Transport-moving</td>\n",
       "      <td>Male</td>\n",
       "      <td>1507</td>\n",
       "    </tr>\n",
       "    <tr>\n",
       "      <th>14</th>\n",
       "      <td>Other-service</td>\n",
       "      <td>Male</td>\n",
       "      <td>1495</td>\n",
       "    </tr>\n",
       "    <tr>\n",
       "      <th>12</th>\n",
       "      <td>Machine-op-inspct</td>\n",
       "      <td>Male</td>\n",
       "      <td>1452</td>\n",
       "    </tr>\n",
       "    <tr>\n",
       "      <th>21</th>\n",
       "      <td>Sales</td>\n",
       "      <td>Female</td>\n",
       "      <td>1263</td>\n",
       "    </tr>\n",
       "    <tr>\n",
       "      <th>1</th>\n",
       "      <td>Adm-clerical</td>\n",
       "      <td>Male</td>\n",
       "      <td>1233</td>\n",
       "    </tr>\n",
       "    <tr>\n",
       "      <th>10</th>\n",
       "      <td>Handlers-cleaners</td>\n",
       "      <td>Male</td>\n",
       "      <td>1206</td>\n",
       "    </tr>\n",
       "    <tr>\n",
       "      <th>5</th>\n",
       "      <td>Exec-managerial</td>\n",
       "      <td>Female</td>\n",
       "      <td>1159</td>\n",
       "    </tr>\n",
       "    <tr>\n",
       "      <th>8</th>\n",
       "      <td>Farming-fishing</td>\n",
       "      <td>Male</td>\n",
       "      <td>929</td>\n",
       "    </tr>\n",
       "    <tr>\n",
       "      <th>24</th>\n",
       "      <td>Tech-support</td>\n",
       "      <td>Male</td>\n",
       "      <td>580</td>\n",
       "    </tr>\n",
       "    <tr>\n",
       "      <th>20</th>\n",
       "      <td>Protective-serv</td>\n",
       "      <td>Male</td>\n",
       "      <td>573</td>\n",
       "    </tr>\n",
       "    <tr>\n",
       "      <th>11</th>\n",
       "      <td>Machine-op-inspct</td>\n",
       "      <td>Female</td>\n",
       "      <td>550</td>\n",
       "    </tr>\n",
       "    <tr>\n",
       "      <th>23</th>\n",
       "      <td>Tech-support</td>\n",
       "      <td>Female</td>\n",
       "      <td>348</td>\n",
       "    </tr>\n",
       "    <tr>\n",
       "      <th>3</th>\n",
       "      <td>Craft-repair</td>\n",
       "      <td>Female</td>\n",
       "      <td>222</td>\n",
       "    </tr>\n",
       "    <tr>\n",
       "      <th>9</th>\n",
       "      <td>Handlers-cleaners</td>\n",
       "      <td>Female</td>\n",
       "      <td>164</td>\n",
       "    </tr>\n",
       "    <tr>\n",
       "      <th>15</th>\n",
       "      <td>Priv-house-serv</td>\n",
       "      <td>Female</td>\n",
       "      <td>141</td>\n",
       "    </tr>\n",
       "    <tr>\n",
       "      <th>25</th>\n",
       "      <td>Transport-moving</td>\n",
       "      <td>Female</td>\n",
       "      <td>90</td>\n",
       "    </tr>\n",
       "    <tr>\n",
       "      <th>19</th>\n",
       "      <td>Protective-serv</td>\n",
       "      <td>Female</td>\n",
       "      <td>76</td>\n",
       "    </tr>\n",
       "    <tr>\n",
       "      <th>7</th>\n",
       "      <td>Farming-fishing</td>\n",
       "      <td>Female</td>\n",
       "      <td>65</td>\n",
       "    </tr>\n",
       "    <tr>\n",
       "      <th>2</th>\n",
       "      <td>Armed-Forces</td>\n",
       "      <td>Male</td>\n",
       "      <td>9</td>\n",
       "    </tr>\n",
       "    <tr>\n",
       "      <th>16</th>\n",
       "      <td>Priv-house-serv</td>\n",
       "      <td>Male</td>\n",
       "      <td>8</td>\n",
       "    </tr>\n",
       "  </tbody>\n",
       "</table>\n",
       "</div>"
      ],
      "text/plain": [
       "            occupation      sex  size\n",
       "4         Craft-repair     Male  3877\n",
       "6      Exec-managerial     Male  2907\n",
       "18      Prof-specialty     Male  2625\n",
       "0         Adm-clerical   Female  2537\n",
       "22               Sales     Male  2387\n",
       "13       Other-service   Female  1800\n",
       "17      Prof-specialty   Female  1515\n",
       "26    Transport-moving     Male  1507\n",
       "14       Other-service     Male  1495\n",
       "12   Machine-op-inspct     Male  1452\n",
       "21               Sales   Female  1263\n",
       "1         Adm-clerical     Male  1233\n",
       "10   Handlers-cleaners     Male  1206\n",
       "5      Exec-managerial   Female  1159\n",
       "8      Farming-fishing     Male   929\n",
       "24        Tech-support     Male   580\n",
       "20     Protective-serv     Male   573\n",
       "11   Machine-op-inspct   Female   550\n",
       "23        Tech-support   Female   348\n",
       "3         Craft-repair   Female   222\n",
       "9    Handlers-cleaners   Female   164\n",
       "15     Priv-house-serv   Female   141\n",
       "25    Transport-moving   Female    90\n",
       "19     Protective-serv   Female    76\n",
       "7      Farming-fishing   Female    65\n",
       "2         Armed-Forces     Male     9\n",
       "16     Priv-house-serv     Male     8"
      ]
     },
     "execution_count": 8,
     "metadata": {},
     "output_type": "execute_result"
    }
   ],
   "source": [
    "grouped = datos.groupby([\"occupation\",\"sex\"], as_index=False).size()\n",
    "grouped.sort_values(by='size',ascending=False)"
   ]
  },
  {
   "cell_type": "markdown",
   "id": "f45a5b0c",
   "metadata": {},
   "source": [
    "    I choose to replace the missing values of the occupation with Craft-repair, Exec-managerial, Prof-specialty, and Sales if the gender of the missing value is Male, and with Adm-clerical, Other-service, Prof-specialty, and Sales if the gender of the missing value is Female, in random order, so as to decrece the noise introduced in case I have had relaced the missing values by the most repeated category."
   ]
  },
  {
   "cell_type": "code",
   "execution_count": 8,
   "id": "0fcc54e7",
   "metadata": {},
   "outputs": [],
   "source": [
    "male = datos[\"sex\"] == ' Male'\n",
    "female = datos[\"sex\"] == ' Female'\n",
    "nans = datos['occupation'].isna()\n",
    "na_male = np.logical_and(male, nans)\n",
    "na_female = np.logical_and(female, nans)\n",
    "length_male = sum(na_male)\n",
    "length_female = sum(na_female)\n",
    "replacement_male = random.choices([\" Craft-repair\",\" Exec-managerial\",\" Prof-specialty\",\" Sales\"], weights=[.25, .25,.25, .25], k=length_male)\n",
    "replacement_female = random.choices([\" Adm-clerical\",\" Other-service\",\" Prof-specialty\",\" Sales\"], weights=[.25, .25,.25, .25], k=length_female)\n",
    "\n",
    "datos.loc[na_male,'occupation'] = replacement_male\n",
    "datos.loc[na_female,'occupation'] = replacement_female"
   ]
  },
  {
   "cell_type": "code",
   "execution_count": 10,
   "id": "74a64a63",
   "metadata": {
    "scrolled": true
   },
   "outputs": [
    {
     "data": {
      "text/plain": [
       "age               0.0\n",
       "workclass         0.0\n",
       "fnlwgt            0.0\n",
       "education         0.0\n",
       "education-num     0.0\n",
       "marital-status    0.0\n",
       "occupation        0.0\n",
       "relationship      0.0\n",
       "race              0.0\n",
       "sex               0.0\n",
       "capital-gain      0.0\n",
       "capital-loss      0.0\n",
       "hours-per-week    0.0\n",
       "native-country    0.0\n",
       "salary            0.0\n",
       "dtype: float64"
      ]
     },
     "execution_count": 10,
     "metadata": {},
     "output_type": "execute_result"
    }
   ],
   "source": [
    "(datos.isna().sum() / datos.shape[0])*100"
   ]
  },
  {
   "cell_type": "markdown",
   "id": "73675303",
   "metadata": {},
   "source": [
    "    Now that I have treated the NA values I am going to proceed to make an exploratory data analysis. \n",
    "#### Categorical variables"
   ]
  },
  {
   "cell_type": "code",
   "execution_count": 104,
   "id": "1967ce00",
   "metadata": {
    "scrolled": true
   },
   "outputs": [
    {
     "name": "stdout",
     "output_type": "stream",
     "text": [
      "workclass\n",
      "0.16778266557375787\n",
      "education\n",
      "0.3682189037932643\n",
      "marital-status\n",
      "0.4472047182882558\n",
      "occupation\n",
      "0.3294461163854272\n",
      "relationship\n",
      "0.45342258188631135\n",
      "race\n",
      "0.10020254494940377\n",
      "sex\n",
      "0.21583599679826912\n",
      "native-country\n",
      "0.09226257347210916\n"
     ]
    }
   ],
   "source": [
    "for i in categoricas:\n",
    "    print(i)\n",
    "    print(cramers_v(datos[\"salary\"], datos[i]))"
   ]
  },
  {
   "cell_type": "markdown",
   "id": "45e9f49f",
   "metadata": {},
   "source": [
    "    The most related variables in descending order to the target variable are:\n",
    "* relationship\n",
    "* marital-status\n",
    "* education\n",
    "* occupation\n",
    "* sex"
   ]
  },
  {
   "cell_type": "code",
   "execution_count": 116,
   "id": "10077679",
   "metadata": {},
   "outputs": [
    {
     "data": {
      "image/png": "[encoded data removed]",
      "text/plain": [
       "<Figure size 1080x576 with 1 Axes>"
      ]
     },
     "metadata": {
      "needs_background": "light"
     },
     "output_type": "display_data"
    }
   ],
   "source": [
    "plt.figure(figsize=(15,8))\n",
    "sns.countplot(x='relationship', data=datos, hue='salary').set(title='Relationship variable count discriminated by salary')\n",
    "plt.show();"
   ]
  },
  {
   "cell_type": "code",
   "execution_count": 117,
   "id": "872f10cd",
   "metadata": {},
   "outputs": [
    {
     "data": {
      "text/plain": [
       " Husband           40.517797\n",
       " Not-in-family     25.505973\n",
       " Own-child         15.564633\n",
       " Unmarried         10.583213\n",
       " Wife               4.815577\n",
       " Other-relative     3.012807\n",
       "Name: relationship, dtype: float64"
      ]
     },
     "execution_count": 117,
     "metadata": {},
     "output_type": "execute_result"
    }
   ],
   "source": [
    "(datos[\"relationship\"].value_counts()/datos.shape[0])*100"
   ]
  },
  {
   "cell_type": "code",
   "execution_count": 114,
   "id": "d9c4fd5e",
   "metadata": {
    "scrolled": false
   },
   "outputs": [
    {
     "data": {
      "image/png": "[encoded data removed]",
      "text/plain": [
       "<Figure size 1080x576 with 1 Axes>"
      ]
     },
     "metadata": {
      "needs_background": "light"
     },
     "output_type": "display_data"
    }
   ],
   "source": [
    "plt.figure(figsize=(15,8))\n",
    "sns.countplot(x='workclass', data=datos, hue='salary').set(title='Workclass variable count discriminated by salary')\n",
    "plt.show();"
   ]
  },
  {
   "cell_type": "code",
   "execution_count": 115,
   "id": "214075a5",
   "metadata": {
    "scrolled": true
   },
   "outputs": [
    {
     "data": {
      "text/plain": [
       " Private             75.341666\n",
       " Self-emp-not-inc     7.803814\n",
       " Local-gov            6.427935\n",
       " State-gov            3.986364\n",
       " Self-emp-inc         3.427413\n",
       " Federal-gov          2.948312\n",
       " Without-pay          0.042996\n",
       " Never-worked         0.021498\n",
       "Name: workclass, dtype: float64"
      ]
     },
     "execution_count": 115,
     "metadata": {},
     "output_type": "execute_result"
    }
   ],
   "source": [
    "(datos[\"workclass\"].value_counts()/datos.shape[0])*100"
   ]
  },
  {
   "cell_type": "code",
   "execution_count": 123,
   "id": "4b6b7af0",
   "metadata": {},
   "outputs": [
    {
     "data": {
      "image/png": "[encoded data removed]",
      "text/plain": [
       "<Figure size 1440x720 with 1 Axes>"
      ]
     },
     "metadata": {
      "needs_background": "light"
     },
     "output_type": "display_data"
    }
   ],
   "source": [
    "plt.figure(figsize=(20,10))\n",
    "sns.countplot(x='education', data=datos, hue='salary').set(title='Education variable count discriminated by salary')\n",
    "plt.show();"
   ]
  },
  {
   "cell_type": "code",
   "execution_count": 119,
   "id": "916d360a",
   "metadata": {},
   "outputs": [
    {
     "data": {
      "text/plain": [
       " HS-grad         32.250238\n",
       " Some-college    22.391818\n",
       " Bachelors       16.446055\n",
       " Masters          5.291607\n",
       " Assoc-voc        4.244341\n",
       " 11th             3.608612\n",
       " Assoc-acdm       3.276926\n",
       " 10th             2.865391\n",
       " 7th-8th          1.983969\n",
       " Prof-school      1.768987\n",
       " 9th              1.578576\n",
       " 12th             1.329812\n",
       " Doctorate        1.268389\n",
       " 5th-6th          1.022696\n",
       " 1st-4th          0.515955\n",
       " Preschool        0.156629\n",
       "Name: education, dtype: float64"
      ]
     },
     "execution_count": 119,
     "metadata": {},
     "output_type": "execute_result"
    }
   ],
   "source": [
    "(datos[\"education\"].value_counts()/datos.shape[0])*100"
   ]
  },
  {
   "cell_type": "code",
   "execution_count": 122,
   "id": "36fb2f23",
   "metadata": {},
   "outputs": [
    {
     "data": {
      "image/png": "[encoded data removed]",
      "text/plain": [
       "<Figure size 1800x1440 with 1 Axes>"
      ]
     },
     "metadata": {
      "needs_background": "light"
     },
     "output_type": "display_data"
    }
   ],
   "source": [
    "plt.figure(figsize=(25,20))\n",
    "sns.countplot(x='occupation', data=datos, hue='salary').set(title='Occupation variable count discriminated by salary')\n",
    "plt.show();"
   ]
  },
  {
   "cell_type": "code",
   "execution_count": 121,
   "id": "52e5b703",
   "metadata": {},
   "outputs": [
    {
     "data": {
      "text/plain": [
       " Prof-specialty       14.167255\n",
       " Craft-repair         13.417893\n",
       " Exec-managerial      13.190627\n",
       " Sales                12.600964\n",
       " Adm-clerical         12.201714\n",
       " Other-service        10.779767\n",
       " Machine-op-inspct     6.148460\n",
       " Transport-moving      4.904641\n",
       " Handlers-cleaners     4.207487\n",
       " Farming-fishing       3.052732\n",
       " Tech-support          2.850035\n",
       " Protective-serv       1.993182\n",
       " Priv-house-serv       0.457603\n",
       " Armed-Forces          0.027640\n",
       "Name: occupation, dtype: float64"
      ]
     },
     "execution_count": 121,
     "metadata": {},
     "output_type": "execute_result"
    }
   ],
   "source": [
    "(datos[\"occupation\"].value_counts()/datos.shape[0])*100"
   ]
  },
  {
   "cell_type": "code",
   "execution_count": 124,
   "id": "8c0c74d4",
   "metadata": {},
   "outputs": [
    {
     "data": {
      "image/png": "[encoded data removed]",
      "text/plain": [
       "<Figure size 1080x576 with 1 Axes>"
      ]
     },
     "metadata": {
      "needs_background": "light"
     },
     "output_type": "display_data"
    }
   ],
   "source": [
    "plt.figure(figsize=(15,8))\n",
    "sns.countplot(x='sex', data=datos, hue='salary').set(title='Sex variable count discriminated by salary')\n",
    "plt.show();"
   ]
  },
  {
   "cell_type": "code",
   "execution_count": 125,
   "id": "76a4d380",
   "metadata": {
    "scrolled": false
   },
   "outputs": [
    {
     "data": {
      "text/plain": [
       " Male      66.920549\n",
       " Female    33.079451\n",
       "Name: sex, dtype: float64"
      ]
     },
     "execution_count": 125,
     "metadata": {},
     "output_type": "execute_result"
    }
   ],
   "source": [
    "(datos[\"sex\"].value_counts()/datos.shape[0])*100"
   ]
  },
  {
   "cell_type": "markdown",
   "id": "d1b6aac1",
   "metadata": {},
   "source": [
    "#### Numerical variables"
   ]
  },
  {
   "cell_type": "code",
   "execution_count": 9,
   "id": "5f5b5cb0",
   "metadata": {},
   "outputs": [],
   "source": [
    "# Create new variable\n",
    "datos[\"capital-total\"] = datos[\"capital-gain\"] - datos[\"capital-loss\"]"
   ]
  },
  {
   "cell_type": "code",
   "execution_count": 126,
   "id": "342826ed",
   "metadata": {
    "scrolled": true
   },
   "outputs": [
    {
     "data": {
      "text/html": [
       "<div>\n",
       "<style scoped>\n",
       "    .dataframe tbody tr th:only-of-type {\n",
       "        vertical-align: middle;\n",
       "    }\n",
       "\n",
       "    .dataframe tbody tr th {\n",
       "        vertical-align: top;\n",
       "    }\n",
       "\n",
       "    .dataframe thead th {\n",
       "        text-align: right;\n",
       "    }\n",
       "</style>\n",
       "<table border=\"1\" class=\"dataframe\">\n",
       "  <thead>\n",
       "    <tr style=\"text-align: right;\">\n",
       "      <th></th>\n",
       "      <th>age</th>\n",
       "      <th>fnlwgt</th>\n",
       "      <th>education-num</th>\n",
       "      <th>capital-gain</th>\n",
       "      <th>capital-loss</th>\n",
       "      <th>hours-per-week</th>\n",
       "    </tr>\n",
       "  </thead>\n",
       "  <tbody>\n",
       "    <tr>\n",
       "      <th>count</th>\n",
       "      <td>32561.000000</td>\n",
       "      <td>3.256100e+04</td>\n",
       "      <td>32561.000000</td>\n",
       "      <td>32561.000000</td>\n",
       "      <td>32561.000000</td>\n",
       "      <td>32561.000000</td>\n",
       "    </tr>\n",
       "    <tr>\n",
       "      <th>mean</th>\n",
       "      <td>38.581647</td>\n",
       "      <td>1.897784e+05</td>\n",
       "      <td>10.080679</td>\n",
       "      <td>1077.648844</td>\n",
       "      <td>87.303830</td>\n",
       "      <td>40.437456</td>\n",
       "    </tr>\n",
       "    <tr>\n",
       "      <th>std</th>\n",
       "      <td>13.640433</td>\n",
       "      <td>1.055500e+05</td>\n",
       "      <td>2.572720</td>\n",
       "      <td>7385.292085</td>\n",
       "      <td>402.960219</td>\n",
       "      <td>12.347429</td>\n",
       "    </tr>\n",
       "    <tr>\n",
       "      <th>min</th>\n",
       "      <td>17.000000</td>\n",
       "      <td>1.228500e+04</td>\n",
       "      <td>1.000000</td>\n",
       "      <td>0.000000</td>\n",
       "      <td>0.000000</td>\n",
       "      <td>1.000000</td>\n",
       "    </tr>\n",
       "    <tr>\n",
       "      <th>25%</th>\n",
       "      <td>28.000000</td>\n",
       "      <td>1.178270e+05</td>\n",
       "      <td>9.000000</td>\n",
       "      <td>0.000000</td>\n",
       "      <td>0.000000</td>\n",
       "      <td>40.000000</td>\n",
       "    </tr>\n",
       "    <tr>\n",
       "      <th>50%</th>\n",
       "      <td>37.000000</td>\n",
       "      <td>1.783560e+05</td>\n",
       "      <td>10.000000</td>\n",
       "      <td>0.000000</td>\n",
       "      <td>0.000000</td>\n",
       "      <td>40.000000</td>\n",
       "    </tr>\n",
       "    <tr>\n",
       "      <th>75%</th>\n",
       "      <td>48.000000</td>\n",
       "      <td>2.370510e+05</td>\n",
       "      <td>12.000000</td>\n",
       "      <td>0.000000</td>\n",
       "      <td>0.000000</td>\n",
       "      <td>45.000000</td>\n",
       "    </tr>\n",
       "    <tr>\n",
       "      <th>max</th>\n",
       "      <td>90.000000</td>\n",
       "      <td>1.484705e+06</td>\n",
       "      <td>16.000000</td>\n",
       "      <td>99999.000000</td>\n",
       "      <td>4356.000000</td>\n",
       "      <td>99.000000</td>\n",
       "    </tr>\n",
       "  </tbody>\n",
       "</table>\n",
       "</div>"
      ],
      "text/plain": [
       "                age        fnlwgt  education-num  capital-gain  capital-loss  \\\n",
       "count  32561.000000  3.256100e+04   32561.000000  32561.000000  32561.000000   \n",
       "mean      38.581647  1.897784e+05      10.080679   1077.648844     87.303830   \n",
       "std       13.640433  1.055500e+05       2.572720   7385.292085    402.960219   \n",
       "min       17.000000  1.228500e+04       1.000000      0.000000      0.000000   \n",
       "25%       28.000000  1.178270e+05       9.000000      0.000000      0.000000   \n",
       "50%       37.000000  1.783560e+05      10.000000      0.000000      0.000000   \n",
       "75%       48.000000  2.370510e+05      12.000000      0.000000      0.000000   \n",
       "max       90.000000  1.484705e+06      16.000000  99999.000000   4356.000000   \n",
       "\n",
       "       hours-per-week  \n",
       "count    32561.000000  \n",
       "mean        40.437456  \n",
       "std         12.347429  \n",
       "min          1.000000  \n",
       "25%         40.000000  \n",
       "50%         40.000000  \n",
       "75%         45.000000  \n",
       "max         99.000000  "
      ]
     },
     "execution_count": 126,
     "metadata": {},
     "output_type": "execute_result"
    }
   ],
   "source": [
    "datos[numericas].describe()"
   ]
  },
  {
   "cell_type": "code",
   "execution_count": 129,
   "id": "674b3189",
   "metadata": {
    "scrolled": true
   },
   "outputs": [
    {
     "data": {
      "image/png": "[encoded data removed]",
      "text/plain": [
       "<Figure size 720x720 with 6 Axes>"
      ]
     },
     "metadata": {
      "needs_background": "light"
     },
     "output_type": "display_data"
    }
   ],
   "source": [
    "plt.figure(figsize=(10,10))\n",
    "plt.subplot(3,2,1)\n",
    "sns.boxplot(x=datos.age)\n",
    "\n",
    "plt.subplot(3,2,2)\n",
    "sns.boxplot(x=datos['education-num'])\n",
    "\n",
    "plt.subplot(3,2,3)\n",
    "sns.boxplot(x=datos['capital-gain'])\n",
    "\n",
    "plt.subplot(3,2,4)\n",
    "sns.boxplot(x=datos['capital-loss'])\n",
    "\n",
    "plt.subplot(3,2,5)\n",
    "sns.boxplot(x=datos['hours-per-week'])\n",
    "\n",
    "plt.subplot(3,2,6)\n",
    "sns.boxplot(x=datos['capital-total'])\n",
    "\n",
    "plt.tight_layout()"
   ]
  },
  {
   "cell_type": "markdown",
   "id": "c3e6b2a8",
   "metadata": {},
   "source": [
    "    We can see that the variables related to capital have many outliers, but when analyzing the data these values seem to be correct, for this reason I will not eliminate their values.\n",
    "\n",
    "    We will filter some values of the variable hours-per-week because the value of 0 seems to be incorrect, since if it does not work any hours it does not make sense to analyze it."
   ]
  },
  {
   "cell_type": "code",
   "execution_count": 11,
   "id": "c41d83eb",
   "metadata": {},
   "outputs": [],
   "source": [
    "datos = datos[datos[\"hours-per-week\"] > 0]"
   ]
  },
  {
   "cell_type": "code",
   "execution_count": 10,
   "id": "46dd6360",
   "metadata": {},
   "outputs": [],
   "source": [
    "# Factorize target variable\n",
    "datos['salary-num'] = pd.factorize(datos.salary)[0]"
   ]
  },
  {
   "cell_type": "code",
   "execution_count": 52,
   "id": "a18b3ea5",
   "metadata": {},
   "outputs": [
    {
     "data": {
      "text/plain": [
       "salary\n",
       " <=50K    0.75919\n",
       " >50K     0.24081\n",
       "dtype: float64"
      ]
     },
     "execution_count": 52,
     "metadata": {},
     "output_type": "execute_result"
    }
   ],
   "source": [
    "datos[[\"salary\"]].value_counts()/datos.shape[0]"
   ]
  },
  {
   "cell_type": "code",
   "execution_count": 51,
   "id": "d059bc37",
   "metadata": {},
   "outputs": [
    {
     "data": {
      "text/plain": [
       "salary-num\n",
       "0             0.75919\n",
       "1             0.24081\n",
       "dtype: float64"
      ]
     },
     "execution_count": 51,
     "metadata": {},
     "output_type": "execute_result"
    }
   ],
   "source": [
    "datos[[\"salary-num\"]].value_counts()/datos.shape[0]"
   ]
  },
  {
   "cell_type": "markdown",
   "id": "b12b7a5a",
   "metadata": {},
   "source": [
    "    Salary categories:\n",
    "    <=50K is 0.\n",
    "    >50K is 1."
   ]
  },
  {
   "cell_type": "markdown",
   "id": "0993023a",
   "metadata": {},
   "source": [
    "    I proceed to calculate the correlation between the numerical variables"
   ]
  },
  {
   "cell_type": "code",
   "execution_count": 11,
   "id": "419346ff",
   "metadata": {},
   "outputs": [
    {
     "data": {
      "image/png": "[encoded data removed]",
      "text/plain": [
       "<Figure size 1080x720 with 2 Axes>"
      ]
     },
     "metadata": {
      "needs_background": "light"
     },
     "output_type": "display_data"
    }
   ],
   "source": [
    "cor_numericas = [\"salary-num\",\"age\",\"education-num\",\"capital-gain\",\"capital-loss\",\"hours-per-week\",\"capital-total\"]\n",
    "df_corr = datos[cor_numericas].copy()\n",
    "plt.figure(figsize=(15,10))\n",
    "sns.heatmap(df_corr.corr(method='pearson'), annot=True)\n",
    "plt.show()"
   ]
  },
  {
   "cell_type": "markdown",
   "id": "a8075121",
   "metadata": {},
   "source": [
    "    The numerical variables with which the response correlates the most are:\n",
    "\n",
    "* education-num\n",
    "* age\n",
    "* capital-gain\n",
    "* hours-per-weeek\n",
    "* capital-total \n",
    "* capital-loss\n",
    "\n",
    "    In decreasing order. "
   ]
  },
  {
   "cell_type": "markdown",
   "id": "5da1ecc7",
   "metadata": {},
   "source": [
    "#### Creating dataset to work on when developing the predictive modelling."
   ]
  },
  {
   "cell_type": "code",
   "execution_count": 15,
   "id": "9ddd9815",
   "metadata": {
    "scrolled": false
   },
   "outputs": [
    {
     "data": {
      "text/plain": [
       "(        education  education-num\n",
       " 11210   Doctorate             16\n",
       " 4597    Doctorate             16,\n",
       "        education  education-num\n",
       " 8080   Preschool              1\n",
       " 7070   Preschool              1)"
      ]
     },
     "execution_count": 15,
     "metadata": {},
     "output_type": "execute_result"
    }
   ],
   "source": [
    "datos[[\"education\",\"education-num\"]].sort_values(by='education-num',ascending=False).head(2),datos[[\"education\",\"education-num\"]].sort_values(by='education-num',ascending=False).tail(2)"
   ]
  },
  {
   "cell_type": "markdown",
   "id": "6dafd27f",
   "metadata": {},
   "source": [
    "    From this we can see that the education-num values have an order given by the degree of education attained."
   ]
  },
  {
   "cell_type": "markdown",
   "id": "809d6f46",
   "metadata": {},
   "source": [
    "## Variables preprocessing\n",
    "    In this step I am going to scale numerical variables and do the specific type of encoding for each of the categorical variables. \n",
    "\n",
    "#### Scalling numerical variables"
   ]
  },
  {
   "cell_type": "code",
   "execution_count": 12,
   "id": "4c3c244f",
   "metadata": {},
   "outputs": [],
   "source": [
    "df_proc=datos.drop([\"education\",\"salary\"], axis=1)"
   ]
  },
  {
   "cell_type": "code",
   "execution_count": 13,
   "id": "2c086d45",
   "metadata": {},
   "outputs": [],
   "source": [
    "# df_proc = datos.copy()\n",
    "numericas = [\"age\",\"fnlwgt\",\"capital-gain\",\"capital-loss\",\"hours-per-week\",\"capital-total\"] \n",
    "scaler = StandardScaler()\n",
    "scaler.fit(df_proc[numericas])\n",
    "df_proc[numericas]=scaler.transform(df_proc[numericas])"
   ]
  },
  {
   "cell_type": "markdown",
   "id": "73f24ecc",
   "metadata": {},
   "source": [
    "#### Encoding categorical variables\n",
    "\n",
    "    For categorical variables, which have one category that dominates over the others in terms of percentage of values for that category, I will proceed to implement another method of enconding categorical variables different of OneHotEnconding, as the categories with lower percentages would have a very large number of zero values with respect to ones, which would have little meaning in terms of information for the predictive modelling. \n",
    "\n",
    "    Furthermore, for categorical variables with many levels, if we perform OneHotEnconding, this would lead to a significant increase in the dimensionality of the data and, as it is said in the jargon, would lead to \"the curse of dimensionality\", where large data dimensions lead to the deterioration of the performance of the predictive modeling. "
   ]
  },
  {
   "cell_type": "markdown",
   "id": "f7023d88",
   "metadata": {},
   "source": [
    "    Target encoding for categorical variables"
   ]
  },
  {
   "cell_type": "code",
   "execution_count": 14,
   "id": "a9da6772",
   "metadata": {},
   "outputs": [
    {
     "name": "stderr",
     "output_type": "stream",
     "text": [
      "/home/martin/anaconda3/envs/ml-course/lib/python3.9/site-packages/category_encoders/target_encoder.py:122: FutureWarning: Default parameter min_samples_leaf will change in version 2.6.See https://github.com/scikit-learn-contrib/category_encoders/issues/327\n",
      "  warnings.warn(\"Default parameter min_samples_leaf will change in version 2.6.\"\n",
      "/home/martin/anaconda3/envs/ml-course/lib/python3.9/site-packages/category_encoders/target_encoder.py:127: FutureWarning: Default parameter smoothing will change in version 2.6.See https://github.com/scikit-learn-contrib/category_encoders/issues/327\n",
      "  warnings.warn(\"Default parameter smoothing will change in version 2.6.\"\n"
     ]
    }
   ],
   "source": [
    "encoder_NC = TargetEncoder()\n",
    "encoder_NC.fit(df_proc['native-country'], df_proc['salary-num'])\n",
    "df_proc['native-country'] = encoder_NC.fit_transform(df_proc['native-country'], df_proc['salary-num'])"
   ]
  },
  {
   "cell_type": "code",
   "execution_count": 15,
   "id": "645c4369",
   "metadata": {},
   "outputs": [
    {
     "name": "stderr",
     "output_type": "stream",
     "text": [
      "/home/martin/anaconda3/envs/ml-course/lib/python3.9/site-packages/category_encoders/target_encoder.py:122: FutureWarning: Default parameter min_samples_leaf will change in version 2.6.See https://github.com/scikit-learn-contrib/category_encoders/issues/327\n",
      "  warnings.warn(\"Default parameter min_samples_leaf will change in version 2.6.\"\n",
      "/home/martin/anaconda3/envs/ml-course/lib/python3.9/site-packages/category_encoders/target_encoder.py:127: FutureWarning: Default parameter smoothing will change in version 2.6.See https://github.com/scikit-learn-contrib/category_encoders/issues/327\n",
      "  warnings.warn(\"Default parameter smoothing will change in version 2.6.\"\n"
     ]
    }
   ],
   "source": [
    "encoder_W = TargetEncoder()\n",
    "encoder_W.fit(df_proc['workclass'], df_proc['salary-num'])\n",
    "df_proc['workclass'] = encoder_W.fit_transform(df_proc['workclass'], df_proc['salary-num'])"
   ]
  },
  {
   "cell_type": "code",
   "execution_count": 16,
   "id": "f4e949cb",
   "metadata": {
    "scrolled": false
   },
   "outputs": [
    {
     "name": "stderr",
     "output_type": "stream",
     "text": [
      "/home/martin/anaconda3/envs/ml-course/lib/python3.9/site-packages/category_encoders/target_encoder.py:122: FutureWarning: Default parameter min_samples_leaf will change in version 2.6.See https://github.com/scikit-learn-contrib/category_encoders/issues/327\n",
      "  warnings.warn(\"Default parameter min_samples_leaf will change in version 2.6.\"\n",
      "/home/martin/anaconda3/envs/ml-course/lib/python3.9/site-packages/category_encoders/target_encoder.py:127: FutureWarning: Default parameter smoothing will change in version 2.6.See https://github.com/scikit-learn-contrib/category_encoders/issues/327\n",
      "  warnings.warn(\"Default parameter smoothing will change in version 2.6.\"\n"
     ]
    }
   ],
   "source": [
    "encoder_R = TargetEncoder()\n",
    "encoder_R.fit(df_proc['race'], df_proc['salary-num'])\n",
    "df_proc['race'] = encoder_R.fit_transform(df_proc['race'], df_proc['salary-num'])"
   ]
  },
  {
   "cell_type": "markdown",
   "id": "4c9988ab",
   "metadata": {},
   "source": [
    "### Divide data in features and target variable"
   ]
  },
  {
   "cell_type": "code",
   "execution_count": 104,
   "id": "b835f943",
   "metadata": {},
   "outputs": [],
   "source": [
    "X = df_proc.loc[:, df_proc.columns != \"salary-num\"]\n",
    "y = df_proc[\"salary-num\"]"
   ]
  },
  {
   "cell_type": "markdown",
   "id": "0b7aa7b2",
   "metadata": {},
   "source": [
    "### Perform DictVectorizer in categorical variables in the feature variables:"
   ]
  },
  {
   "cell_type": "code",
   "execution_count": 105,
   "id": "b8572736",
   "metadata": {},
   "outputs": [],
   "source": [
    "# Numerical variables at this step\n",
    "numerical = [\"age\",\"fnlwgt\",\"capital-gain\",\"capital-loss\",\"hours-per-week\",\"capital-total\",\"education-num\",\"race\",\"native-country\",\"workclass\"]\n",
    "\n",
    "# Categorical variables in which I want to perform DictVectorizer, so as to save the model and use it in the future. \n",
    "categorical = [\"marital-status\",\"occupation\",\"relationship\",\"sex\"]"
   ]
  },
  {
   "cell_type": "code",
   "execution_count": 106,
   "id": "5f5dce9c",
   "metadata": {},
   "outputs": [],
   "source": [
    "from sklearn.feature_extraction import DictVectorizer\n",
    "dicts = X[categorical + numerical].to_dict(orient='records')\n",
    "dv = DictVectorizer(sparse=False)\n",
    "X = dv.fit_transform(dicts)"
   ]
  },
  {
   "cell_type": "code",
   "execution_count": 107,
   "id": "252be99a",
   "metadata": {
    "scrolled": true
   },
   "outputs": [
    {
     "data": {
      "text/plain": [
       "{'marital-status': ' Never-married',\n",
       " 'occupation': ' Adm-clerical',\n",
       " 'relationship': ' Not-in-family',\n",
       " 'sex': ' Male',\n",
       " 'age': 0.030670557354391753,\n",
       " 'fnlwgt': -1.0636107451560883,\n",
       " 'capital-gain': 0.14845289521747937,\n",
       " 'capital-loss': -0.21665952703259014,\n",
       " 'hours-per-week': -0.03542944697277691,\n",
       " 'capital-total': 0.15976180957827668,\n",
       " 'education-num': 13,\n",
       " 'race': 0.2558599367270636,\n",
       " 'native-country': 0.24592478069438375,\n",
       " 'workclass': 0.27195685670261943}"
      ]
     },
     "execution_count": 107,
     "metadata": {},
     "output_type": "execute_result"
    }
   ],
   "source": [
    "dicts[0]"
   ]
  },
  {
   "cell_type": "markdown",
   "id": "562a8116",
   "metadata": {},
   "source": [
    "#### Resuming the preprocessing\n",
    "    Treatment for each variable:\n",
    "    \n",
    "* Numerical:  'age','fnlwgt','capital-gain','capital-loss','hours-per-week','capital-total'. For numerical variables I am going to scale them.\n",
    "    \n",
    "* Categorical: \n",
    "   * Target encoder: 'native-country','workclass', 'race'. \n",
    "   * Binary or OneHotEncoder by the implementation of DictVectorizer: 'marital-status', 'occupation', 'relationship', 'sex','salary'.  \n",
    "    \n",
    "   * Variables ready to model: 'education-num',\n",
    "    \n",
    "   * Variables to drop: 'education', 'salary-num'"
   ]
  },
  {
   "cell_type": "markdown",
   "id": "b0907f8c",
   "metadata": {},
   "source": [
    "### Preprocessing method ready to save\n",
    "    Salary categories:\n",
    "    <=50K is 0.\n",
    "    >50K is 1.\n",
    "\n",
    "    scaler -> StandardScaler\n",
    "    scal_var = [\"age\",\"fnlwgt\",\"capital-gain\",\"capital-loss\",\"hours-per-week\",\"capital-total\"] \n",
    "\n",
    "    encoder_R -> TargetEncoding\n",
    "    ['race']\n",
    "\n",
    "    encoder_W -> TargetEncoding\n",
    "    ['workclass']\n",
    "\n",
    "    encoder_NC -> TargetEncoding\n",
    "    ['native-country']\n",
    "    \n",
    "    dv -> DictVectorizer\n",
    "    [\"marital-status\",\"occupation\",\"relationship\",\"sex\"]"
   ]
  },
  {
   "cell_type": "markdown",
   "id": "a603aaa7",
   "metadata": {},
   "source": [
    "## Train and test data splitting (stratified)"
   ]
  },
  {
   "cell_type": "code",
   "execution_count": 108,
   "id": "ea772e36",
   "metadata": {},
   "outputs": [],
   "source": [
    "# Train test split\n",
    "from sklearn.model_selection import train_test_split\n",
    "\n",
    "X_train, X_test, y_train, y_test = train_test_split(X, y, test_size=0.2, random_state=1, stratify=y)"
   ]
  },
  {
   "cell_type": "markdown",
   "id": "bc9fcc23",
   "metadata": {},
   "source": [
    "### Training predictive algorithms and calculating metrics\n",
    "\n",
    "    Baseline:"
   ]
  },
  {
   "cell_type": "code",
   "execution_count": 112,
   "id": "27232bf2",
   "metadata": {
    "scrolled": true
   },
   "outputs": [
    {
     "data": {
      "text/plain": [
       "salary-num\n",
       "0             0.75919\n",
       "1             0.24081\n",
       "dtype: float64"
      ]
     },
     "execution_count": 112,
     "metadata": {},
     "output_type": "execute_result"
    }
   ],
   "source": [
    "datos[[\"salary-num\"]].value_counts()/datos.shape[0]"
   ]
  },
  {
   "cell_type": "code",
   "execution_count": 113,
   "id": "6d5cbd13",
   "metadata": {},
   "outputs": [],
   "source": [
    "x = np.array([0])\n",
    "y_base_line = np.repeat(x, y_test.shape[0], axis=0)"
   ]
  },
  {
   "cell_type": "code",
   "execution_count": 114,
   "id": "a5ba3f28",
   "metadata": {
    "scrolled": true
   },
   "outputs": [
    {
     "name": "stderr",
     "output_type": "stream",
     "text": [
      "C:\\Users\\marti\\anaconda3\\envs\\datasc\\lib\\site-packages\\sklearn\\metrics\\_classification.py:1318: UndefinedMetricWarning: Precision is ill-defined and being set to 0.0 due to no predicted samples. Use `zero_division` parameter to control this behavior.\n",
      "  _warn_prf(average, modifier, msg_start, len(result))\n"
     ]
    },
    {
     "data": {
      "text/html": [
       "<div>\n",
       "<style scoped>\n",
       "    .dataframe tbody tr th:only-of-type {\n",
       "        vertical-align: middle;\n",
       "    }\n",
       "\n",
       "    .dataframe tbody tr th {\n",
       "        vertical-align: top;\n",
       "    }\n",
       "\n",
       "    .dataframe thead th {\n",
       "        text-align: right;\n",
       "    }\n",
       "</style>\n",
       "<table border=\"1\" class=\"dataframe\">\n",
       "  <thead>\n",
       "    <tr style=\"text-align: right;\">\n",
       "      <th></th>\n",
       "      <th>accuracy</th>\n",
       "      <th>f1_score</th>\n",
       "      <th>precision_score</th>\n",
       "      <th>recall_score</th>\n",
       "      <th>log_loss</th>\n",
       "    </tr>\n",
       "  </thead>\n",
       "  <tbody>\n",
       "    <tr>\n",
       "      <th>BaseLine</th>\n",
       "      <td>0.759251</td>\n",
       "      <td>0.0</td>\n",
       "      <td>0.0</td>\n",
       "      <td>0.0</td>\n",
       "      <td>8.315185</td>\n",
       "    </tr>\n",
       "  </tbody>\n",
       "</table>\n",
       "</div>"
      ],
      "text/plain": [
       "          accuracy  f1_score  precision_score  recall_score  log_loss\n",
       "BaseLine  0.759251       0.0              0.0           0.0  8.315185"
      ]
     },
     "execution_count": 114,
     "metadata": {},
     "output_type": "execute_result"
    }
   ],
   "source": [
    "# Base line metrics:\n",
    "base_line = pd.DataFrame([{\n",
    "    'accuracy': accuracy_score(y_test,y_base_line),\n",
    "    'f1_score': f1_score(y_test,y_base_line),\n",
    "    'precision_score': precision_score(y_test,y_base_line),\n",
    "    'recall_score': recall_score(y_test,y_base_line),\n",
    "    'log_loss': log_loss(y_test,y_base_line)\n",
    "}], index=[\"BaseLine\"]\n",
    ")\n",
    "\n",
    "base_line.head()"
   ]
  },
  {
   "cell_type": "code",
   "execution_count": 169,
   "id": "c15cdbcd",
   "metadata": {},
   "outputs": [],
   "source": [
    "# Define classification models\n",
    "log_model = LogisticRegression(max_iter=10000)\n",
    "knc_model = KNeighborsClassifier(n_neighbors=5)\n",
    "lda_model = LinearDiscriminantAnalysis(solver=\"svd\")\n",
    "qda_model = QuadraticDiscriminantAnalysis()\n",
    "svc_model = LinearSVC(dual=False)\n",
    "dtr_model = DecisionTreeClassifier()\n",
    "rfc_model = RandomForestClassifier(n_estimators=100, min_samples_split=3)\n",
    "gnb_model = GaussianNB()\n",
    "xgb_model = XGBClassifier(n_estimators=100, max_depth=3)\n",
    "xgrf_model = XGBRFClassifier(n_estimators=100, max_depth=3)\n",
    "lxgb_model = LGBMClassifier(n_estimators=100)"
   ]
  },
  {
   "cell_type": "code",
   "execution_count": 171,
   "id": "0ba82f8a",
   "metadata": {},
   "outputs": [],
   "source": [
    "scoring = {'accuracy':make_scorer(accuracy_score),\n",
    "           'f1_score':make_scorer(f1_score),\n",
    "           'precision_score':make_scorer(precision_score),\n",
    "           'recall_score':make_scorer(recall_score),\n",
    "           'log_loss':make_scorer(log_loss)\n",
    "          }\n",
    "\n",
    "# Define the models evaluation function\n",
    "def models_accuracy_cv(X,y,folds):\n",
    "\n",
    "    # Train machine learning classifier with cross validation\n",
    "    log = cross_validate(log_model, X, y, cv=folds, scoring=scoring)\n",
    "    knc = cross_validate(knc_model, X, y, cv=folds, scoring=scoring)\n",
    "    lda = cross_validate(lda_model, X, y, cv=folds, scoring=scoring)\n",
    "    qda = cross_validate(qda_model, X, y, cv=folds, scoring=scoring)\n",
    "    svc = cross_validate(svc_model, X, y, cv=folds, scoring=scoring)\n",
    "    dtr = cross_validate(dtr_model, X, y, cv=folds, scoring=scoring)\n",
    "    rfc = cross_validate(rfc_model, X, y, cv=folds, scoring=scoring)\n",
    "    gnb = cross_validate(gnb_model, X, y, cv=folds, scoring=scoring)\n",
    "    xgb = cross_validate(xgb_model, X, y, cv=folds, scoring=scoring)\n",
    "    xgrf = cross_validate(xgrf_model, X, y, cv=folds, scoring=scoring)\n",
    "    lxgb = cross_validate(lxgb_model, X, y, cv=folds, scoring=scoring)\n",
    "    \n",
    "    # Create a data frame with the models accuracy\n",
    "    models_scores_table = pd.DataFrame({'Logistic Regression':[log['test_accuracy'].mean(),\n",
    "                                                              log['test_f1_score'].mean(),\n",
    "                                                              log['test_precision_score'].mean(),\n",
    "                                                              log['test_recall_score'].mean(),\n",
    "                                                              log['test_log_loss'].mean()],\n",
    "                                        \n",
    "                                        'K Neighbor Classifier':[knc['test_accuracy'].mean(),\n",
    "                                                              knc['test_f1_score'].mean(),\n",
    "                                                              knc['test_precision_score'].mean(),\n",
    "                                                              knc['test_recall_score'].mean(),\n",
    "                                                              knc['test_log_loss'].mean()],\n",
    "                                        \n",
    "                                        'Linear Discriminant Analysis':[lda['test_accuracy'].mean(),\n",
    "                                                              lda['test_f1_score'].mean(),\n",
    "                                                              lda['test_precision_score'].mean(),\n",
    "                                                              lda['test_recall_score'].mean(),\n",
    "                                                              lda['test_log_loss'].mean()],\n",
    "                                        \n",
    "                                        'Quadratic Discriminant Analysis':[qda['test_accuracy'].mean(),\n",
    "                                                              qda['test_f1_score'].mean(),\n",
    "                                                              qda['test_precision_score'].mean(),\n",
    "                                                              qda['test_recall_score'].mean(),\n",
    "                                                              qda['test_log_loss'].mean()],\n",
    "                                       \n",
    "                                      'Support Vector Classifier':[svc['test_accuracy'].mean(),\n",
    "                                                              svc['test_f1_score'].mean(),\n",
    "                                                              svc['test_precision_score'].mean(),\n",
    "                                                              svc['test_recall_score'].mean(),\n",
    "                                                              svc['test_log_loss'].mean()],\n",
    "                                       \n",
    "                                      'Decision Tree':[dtr['test_accuracy'].mean(),\n",
    "                                                              dtr['test_f1_score'].mean(),\n",
    "                                                              dtr['test_precision_score'].mean(),\n",
    "                                                              dtr['test_recall_score'].mean(),\n",
    "                                                              dtr['test_log_loss'].mean()],\n",
    "                                       \n",
    "                                      'Random Forest':[rfc['test_accuracy'].mean(),\n",
    "                                                              rfc['test_f1_score'].mean(),\n",
    "                                                              rfc['test_precision_score'].mean(),\n",
    "                                                              rfc['test_recall_score'].mean(),\n",
    "                                                              rfc['test_log_loss'].mean()],\n",
    "                                       \n",
    "                                      'Gaussian Naive Bayes':[gnb['test_accuracy'].mean(),\n",
    "                                                              gnb['test_f1_score'].mean(),\n",
    "                                                              gnb['test_precision_score'].mean(),\n",
    "                                                              gnb['test_recall_score'].mean(),\n",
    "                                                              gnb['test_log_loss'].mean()],\n",
    "                                       \n",
    "                                       'XGBoost':[xgb['test_accuracy'].mean(),\n",
    "                                                              xgb['test_f1_score'].mean(),\n",
    "                                                              xgb['test_precision_score'].mean(),\n",
    "                                                              xgb['test_recall_score'].mean(),\n",
    "                                                              xgb['test_log_loss'].mean()],\n",
    "                                       \n",
    "                                       'XGRandomForest':[xgrf['test_accuracy'].mean(),\n",
    "                                                              xgrf['test_f1_score'].mean(),\n",
    "                                                              xgrf['test_precision_score'].mean(),\n",
    "                                                              xgrf['test_recall_score'].mean(),\n",
    "                                                              xgrf['test_log_loss'].mean()],\n",
    "                                        \n",
    "                                       'Light XGB':[lxgb['test_accuracy'].mean(),\n",
    "                                                              lxgb['test_f1_score'].mean(),\n",
    "                                                              lxgb['test_precision_score'].mean(),\n",
    "                                                              lxgb['test_recall_score'].mean(),\n",
    "                                                              lxgb['test_log_loss'].mean()]},\n",
    "                                      \n",
    "                                      index=['Accuracy',\"f1_score\",\"precision\",\"recall\",\"log_loss\"])\n",
    "    \n",
    "    # Add 'Best Score' column\n",
    "    models_scores_table['Best Score'] = models_scores_table.idxmax(axis=1)\n",
    "    \n",
    "    # Return models performance metrics scores data frame\n",
    "    return(models_scores_table)"
   ]
  },
  {
   "cell_type": "code",
   "execution_count": 172,
   "id": "50577c65",
   "metadata": {
    "scrolled": true
   },
   "outputs": [
    {
     "name": "stderr",
     "output_type": "stream",
     "text": [
      "C:\\Users\\marti\\anaconda3\\envs\\datasc\\lib\\site-packages\\sklearn\\discriminant_analysis.py:878: UserWarning: Variables are collinear\n",
      "  warnings.warn(\"Variables are collinear\")\n",
      "C:\\Users\\marti\\anaconda3\\envs\\datasc\\lib\\site-packages\\sklearn\\discriminant_analysis.py:878: UserWarning: Variables are collinear\n",
      "  warnings.warn(\"Variables are collinear\")\n",
      "C:\\Users\\marti\\anaconda3\\envs\\datasc\\lib\\site-packages\\sklearn\\discriminant_analysis.py:878: UserWarning: Variables are collinear\n",
      "  warnings.warn(\"Variables are collinear\")\n",
      "C:\\Users\\marti\\anaconda3\\envs\\datasc\\lib\\site-packages\\sklearn\\discriminant_analysis.py:878: UserWarning: Variables are collinear\n",
      "  warnings.warn(\"Variables are collinear\")\n",
      "C:\\Users\\marti\\anaconda3\\envs\\datasc\\lib\\site-packages\\sklearn\\discriminant_analysis.py:878: UserWarning: Variables are collinear\n",
      "  warnings.warn(\"Variables are collinear\")\n",
      "C:\\Users\\marti\\anaconda3\\envs\\datasc\\lib\\site-packages\\sklearn\\discriminant_analysis.py:878: UserWarning: Variables are collinear\n",
      "  warnings.warn(\"Variables are collinear\")\n",
      "C:\\Users\\marti\\anaconda3\\envs\\datasc\\lib\\site-packages\\sklearn\\discriminant_analysis.py:878: UserWarning: Variables are collinear\n",
      "  warnings.warn(\"Variables are collinear\")\n",
      "C:\\Users\\marti\\anaconda3\\envs\\datasc\\lib\\site-packages\\sklearn\\discriminant_analysis.py:878: UserWarning: Variables are collinear\n",
      "  warnings.warn(\"Variables are collinear\")\n",
      "C:\\Users\\marti\\anaconda3\\envs\\datasc\\lib\\site-packages\\sklearn\\discriminant_analysis.py:878: UserWarning: Variables are collinear\n",
      "  warnings.warn(\"Variables are collinear\")\n",
      "C:\\Users\\marti\\anaconda3\\envs\\datasc\\lib\\site-packages\\sklearn\\discriminant_analysis.py:878: UserWarning: Variables are collinear\n",
      "  warnings.warn(\"Variables are collinear\")\n",
      "C:\\Users\\marti\\anaconda3\\envs\\datasc\\lib\\site-packages\\xgboost\\sklearn.py:1224: UserWarning: The use of label encoder in XGBClassifier is deprecated and will be removed in a future release. To remove this warning, do the following: 1) Pass option use_label_encoder=False when constructing XGBClassifier object; and 2) Encode your labels (y) as integers starting with 0, i.e. 0, 1, 2, ..., [num_class - 1].\n",
      "  warnings.warn(label_encoder_deprecation_msg, UserWarning)\n",
      "C:\\Users\\marti\\anaconda3\\envs\\datasc\\lib\\site-packages\\xgboost\\data.py:250: FutureWarning: pandas.Int64Index is deprecated and will be removed from pandas in a future version. Use pandas.Index with the appropriate dtype instead.\n",
      "  elif isinstance(data.columns, (pd.Int64Index, pd.RangeIndex)):\n"
     ]
    },
    {
     "name": "stdout",
     "output_type": "stream",
     "text": [
      "[13:07:24] WARNING: ..\\src\\learner.cc:1115: Starting in XGBoost 1.3.0, the default evaluation metric used with the objective 'binary:logistic' was changed from 'error' to 'logloss'. Explicitly set eval_metric if you'd like to restore the old behavior.\n"
     ]
    },
    {
     "name": "stderr",
     "output_type": "stream",
     "text": [
      "C:\\Users\\marti\\anaconda3\\envs\\datasc\\lib\\site-packages\\xgboost\\sklearn.py:1224: UserWarning: The use of label encoder in XGBClassifier is deprecated and will be removed in a future release. To remove this warning, do the following: 1) Pass option use_label_encoder=False when constructing XGBClassifier object; and 2) Encode your labels (y) as integers starting with 0, i.e. 0, 1, 2, ..., [num_class - 1].\n",
      "  warnings.warn(label_encoder_deprecation_msg, UserWarning)\n",
      "C:\\Users\\marti\\anaconda3\\envs\\datasc\\lib\\site-packages\\xgboost\\data.py:250: FutureWarning: pandas.Int64Index is deprecated and will be removed from pandas in a future version. Use pandas.Index with the appropriate dtype instead.\n",
      "  elif isinstance(data.columns, (pd.Int64Index, pd.RangeIndex)):\n"
     ]
    },
    {
     "name": "stdout",
     "output_type": "stream",
     "text": [
      "[13:07:24] WARNING: ..\\src\\learner.cc:1115: Starting in XGBoost 1.3.0, the default evaluation metric used with the objective 'binary:logistic' was changed from 'error' to 'logloss'. Explicitly set eval_metric if you'd like to restore the old behavior.\n"
     ]
    },
    {
     "name": "stderr",
     "output_type": "stream",
     "text": [
      "C:\\Users\\marti\\anaconda3\\envs\\datasc\\lib\\site-packages\\xgboost\\sklearn.py:1224: UserWarning: The use of label encoder in XGBClassifier is deprecated and will be removed in a future release. To remove this warning, do the following: 1) Pass option use_label_encoder=False when constructing XGBClassifier object; and 2) Encode your labels (y) as integers starting with 0, i.e. 0, 1, 2, ..., [num_class - 1].\n",
      "  warnings.warn(label_encoder_deprecation_msg, UserWarning)\n",
      "C:\\Users\\marti\\anaconda3\\envs\\datasc\\lib\\site-packages\\xgboost\\data.py:250: FutureWarning: pandas.Int64Index is deprecated and will be removed from pandas in a future version. Use pandas.Index with the appropriate dtype instead.\n",
      "  elif isinstance(data.columns, (pd.Int64Index, pd.RangeIndex)):\n"
     ]
    },
    {
     "name": "stdout",
     "output_type": "stream",
     "text": [
      "[13:07:25] WARNING: ..\\src\\learner.cc:1115: Starting in XGBoost 1.3.0, the default evaluation metric used with the objective 'binary:logistic' was changed from 'error' to 'logloss'. Explicitly set eval_metric if you'd like to restore the old behavior.\n"
     ]
    },
    {
     "name": "stderr",
     "output_type": "stream",
     "text": [
      "C:\\Users\\marti\\anaconda3\\envs\\datasc\\lib\\site-packages\\xgboost\\sklearn.py:1224: UserWarning: The use of label encoder in XGBClassifier is deprecated and will be removed in a future release. To remove this warning, do the following: 1) Pass option use_label_encoder=False when constructing XGBClassifier object; and 2) Encode your labels (y) as integers starting with 0, i.e. 0, 1, 2, ..., [num_class - 1].\n",
      "  warnings.warn(label_encoder_deprecation_msg, UserWarning)\n",
      "C:\\Users\\marti\\anaconda3\\envs\\datasc\\lib\\site-packages\\xgboost\\data.py:250: FutureWarning: pandas.Int64Index is deprecated and will be removed from pandas in a future version. Use pandas.Index with the appropriate dtype instead.\n",
      "  elif isinstance(data.columns, (pd.Int64Index, pd.RangeIndex)):\n"
     ]
    },
    {
     "name": "stdout",
     "output_type": "stream",
     "text": [
      "[13:07:25] WARNING: ..\\src\\learner.cc:1115: Starting in XGBoost 1.3.0, the default evaluation metric used with the objective 'binary:logistic' was changed from 'error' to 'logloss'. Explicitly set eval_metric if you'd like to restore the old behavior.\n"
     ]
    },
    {
     "name": "stderr",
     "output_type": "stream",
     "text": [
      "C:\\Users\\marti\\anaconda3\\envs\\datasc\\lib\\site-packages\\xgboost\\sklearn.py:1224: UserWarning: The use of label encoder in XGBClassifier is deprecated and will be removed in a future release. To remove this warning, do the following: 1) Pass option use_label_encoder=False when constructing XGBClassifier object; and 2) Encode your labels (y) as integers starting with 0, i.e. 0, 1, 2, ..., [num_class - 1].\n",
      "  warnings.warn(label_encoder_deprecation_msg, UserWarning)\n",
      "C:\\Users\\marti\\anaconda3\\envs\\datasc\\lib\\site-packages\\xgboost\\data.py:250: FutureWarning: pandas.Int64Index is deprecated and will be removed from pandas in a future version. Use pandas.Index with the appropriate dtype instead.\n",
      "  elif isinstance(data.columns, (pd.Int64Index, pd.RangeIndex)):\n"
     ]
    },
    {
     "name": "stdout",
     "output_type": "stream",
     "text": [
      "[13:07:26] WARNING: ..\\src\\learner.cc:1115: Starting in XGBoost 1.3.0, the default evaluation metric used with the objective 'binary:logistic' was changed from 'error' to 'logloss'. Explicitly set eval_metric if you'd like to restore the old behavior.\n"
     ]
    },
    {
     "name": "stderr",
     "output_type": "stream",
     "text": [
      "C:\\Users\\marti\\anaconda3\\envs\\datasc\\lib\\site-packages\\xgboost\\sklearn.py:1224: UserWarning: The use of label encoder in XGBClassifier is deprecated and will be removed in a future release. To remove this warning, do the following: 1) Pass option use_label_encoder=False when constructing XGBClassifier object; and 2) Encode your labels (y) as integers starting with 0, i.e. 0, 1, 2, ..., [num_class - 1].\n",
      "  warnings.warn(label_encoder_deprecation_msg, UserWarning)\n",
      "C:\\Users\\marti\\anaconda3\\envs\\datasc\\lib\\site-packages\\xgboost\\data.py:250: FutureWarning: pandas.Int64Index is deprecated and will be removed from pandas in a future version. Use pandas.Index with the appropriate dtype instead.\n",
      "  elif isinstance(data.columns, (pd.Int64Index, pd.RangeIndex)):\n"
     ]
    },
    {
     "name": "stdout",
     "output_type": "stream",
     "text": [
      "[13:07:26] WARNING: ..\\src\\learner.cc:1115: Starting in XGBoost 1.3.0, the default evaluation metric used with the objective 'binary:logistic' was changed from 'error' to 'logloss'. Explicitly set eval_metric if you'd like to restore the old behavior.\n"
     ]
    },
    {
     "name": "stderr",
     "output_type": "stream",
     "text": [
      "C:\\Users\\marti\\anaconda3\\envs\\datasc\\lib\\site-packages\\xgboost\\sklearn.py:1224: UserWarning: The use of label encoder in XGBClassifier is deprecated and will be removed in a future release. To remove this warning, do the following: 1) Pass option use_label_encoder=False when constructing XGBClassifier object; and 2) Encode your labels (y) as integers starting with 0, i.e. 0, 1, 2, ..., [num_class - 1].\n",
      "  warnings.warn(label_encoder_deprecation_msg, UserWarning)\n",
      "C:\\Users\\marti\\anaconda3\\envs\\datasc\\lib\\site-packages\\xgboost\\data.py:250: FutureWarning: pandas.Int64Index is deprecated and will be removed from pandas in a future version. Use pandas.Index with the appropriate dtype instead.\n",
      "  elif isinstance(data.columns, (pd.Int64Index, pd.RangeIndex)):\n"
     ]
    },
    {
     "name": "stdout",
     "output_type": "stream",
     "text": [
      "[13:07:27] WARNING: ..\\src\\learner.cc:1115: Starting in XGBoost 1.3.0, the default evaluation metric used with the objective 'binary:logistic' was changed from 'error' to 'logloss'. Explicitly set eval_metric if you'd like to restore the old behavior.\n"
     ]
    },
    {
     "name": "stderr",
     "output_type": "stream",
     "text": [
      "C:\\Users\\marti\\anaconda3\\envs\\datasc\\lib\\site-packages\\xgboost\\sklearn.py:1224: UserWarning: The use of label encoder in XGBClassifier is deprecated and will be removed in a future release. To remove this warning, do the following: 1) Pass option use_label_encoder=False when constructing XGBClassifier object; and 2) Encode your labels (y) as integers starting with 0, i.e. 0, 1, 2, ..., [num_class - 1].\n",
      "  warnings.warn(label_encoder_deprecation_msg, UserWarning)\n",
      "C:\\Users\\marti\\anaconda3\\envs\\datasc\\lib\\site-packages\\xgboost\\data.py:250: FutureWarning: pandas.Int64Index is deprecated and will be removed from pandas in a future version. Use pandas.Index with the appropriate dtype instead.\n",
      "  elif isinstance(data.columns, (pd.Int64Index, pd.RangeIndex)):\n"
     ]
    },
    {
     "name": "stdout",
     "output_type": "stream",
     "text": [
      "[13:07:27] WARNING: ..\\src\\learner.cc:1115: Starting in XGBoost 1.3.0, the default evaluation metric used with the objective 'binary:logistic' was changed from 'error' to 'logloss'. Explicitly set eval_metric if you'd like to restore the old behavior.\n"
     ]
    },
    {
     "name": "stderr",
     "output_type": "stream",
     "text": [
      "C:\\Users\\marti\\anaconda3\\envs\\datasc\\lib\\site-packages\\xgboost\\sklearn.py:1224: UserWarning: The use of label encoder in XGBClassifier is deprecated and will be removed in a future release. To remove this warning, do the following: 1) Pass option use_label_encoder=False when constructing XGBClassifier object; and 2) Encode your labels (y) as integers starting with 0, i.e. 0, 1, 2, ..., [num_class - 1].\n",
      "  warnings.warn(label_encoder_deprecation_msg, UserWarning)\n",
      "C:\\Users\\marti\\anaconda3\\envs\\datasc\\lib\\site-packages\\xgboost\\data.py:250: FutureWarning: pandas.Int64Index is deprecated and will be removed from pandas in a future version. Use pandas.Index with the appropriate dtype instead.\n",
      "  elif isinstance(data.columns, (pd.Int64Index, pd.RangeIndex)):\n"
     ]
    },
    {
     "name": "stdout",
     "output_type": "stream",
     "text": [
      "[13:07:28] WARNING: ..\\src\\learner.cc:1115: Starting in XGBoost 1.3.0, the default evaluation metric used with the objective 'binary:logistic' was changed from 'error' to 'logloss'. Explicitly set eval_metric if you'd like to restore the old behavior.\n"
     ]
    },
    {
     "name": "stderr",
     "output_type": "stream",
     "text": [
      "C:\\Users\\marti\\anaconda3\\envs\\datasc\\lib\\site-packages\\xgboost\\sklearn.py:1224: UserWarning: The use of label encoder in XGBClassifier is deprecated and will be removed in a future release. To remove this warning, do the following: 1) Pass option use_label_encoder=False when constructing XGBClassifier object; and 2) Encode your labels (y) as integers starting with 0, i.e. 0, 1, 2, ..., [num_class - 1].\n",
      "  warnings.warn(label_encoder_deprecation_msg, UserWarning)\n",
      "C:\\Users\\marti\\anaconda3\\envs\\datasc\\lib\\site-packages\\xgboost\\data.py:250: FutureWarning: pandas.Int64Index is deprecated and will be removed from pandas in a future version. Use pandas.Index with the appropriate dtype instead.\n",
      "  elif isinstance(data.columns, (pd.Int64Index, pd.RangeIndex)):\n"
     ]
    },
    {
     "name": "stdout",
     "output_type": "stream",
     "text": [
      "[13:07:28] WARNING: ..\\src\\learner.cc:1115: Starting in XGBoost 1.3.0, the default evaluation metric used with the objective 'binary:logistic' was changed from 'error' to 'logloss'. Explicitly set eval_metric if you'd like to restore the old behavior.\n"
     ]
    },
    {
     "name": "stderr",
     "output_type": "stream",
     "text": [
      "C:\\Users\\marti\\anaconda3\\envs\\datasc\\lib\\site-packages\\xgboost\\sklearn.py:1224: UserWarning: The use of label encoder in XGBClassifier is deprecated and will be removed in a future release. To remove this warning, do the following: 1) Pass option use_label_encoder=False when constructing XGBClassifier object; and 2) Encode your labels (y) as integers starting with 0, i.e. 0, 1, 2, ..., [num_class - 1].\n",
      "  warnings.warn(label_encoder_deprecation_msg, UserWarning)\n",
      "C:\\Users\\marti\\anaconda3\\envs\\datasc\\lib\\site-packages\\xgboost\\data.py:250: FutureWarning: pandas.Int64Index is deprecated and will be removed from pandas in a future version. Use pandas.Index with the appropriate dtype instead.\n",
      "  elif isinstance(data.columns, (pd.Int64Index, pd.RangeIndex)):\n"
     ]
    },
    {
     "name": "stdout",
     "output_type": "stream",
     "text": [
      "[13:07:29] WARNING: ..\\src\\learner.cc:1115: Starting in XGBoost 1.3.0, the default evaluation metric used with the objective 'binary:logistic' was changed from 'error' to 'logloss'. Explicitly set eval_metric if you'd like to restore the old behavior.\n"
     ]
    },
    {
     "name": "stderr",
     "output_type": "stream",
     "text": [
      "C:\\Users\\marti\\anaconda3\\envs\\datasc\\lib\\site-packages\\xgboost\\sklearn.py:1224: UserWarning: The use of label encoder in XGBClassifier is deprecated and will be removed in a future release. To remove this warning, do the following: 1) Pass option use_label_encoder=False when constructing XGBClassifier object; and 2) Encode your labels (y) as integers starting with 0, i.e. 0, 1, 2, ..., [num_class - 1].\n",
      "  warnings.warn(label_encoder_deprecation_msg, UserWarning)\n",
      "C:\\Users\\marti\\anaconda3\\envs\\datasc\\lib\\site-packages\\xgboost\\data.py:250: FutureWarning: pandas.Int64Index is deprecated and will be removed from pandas in a future version. Use pandas.Index with the appropriate dtype instead.\n",
      "  elif isinstance(data.columns, (pd.Int64Index, pd.RangeIndex)):\n"
     ]
    },
    {
     "name": "stdout",
     "output_type": "stream",
     "text": [
      "[13:07:30] WARNING: ..\\src\\learner.cc:1115: Starting in XGBoost 1.3.0, the default evaluation metric used with the objective 'binary:logistic' was changed from 'error' to 'logloss'. Explicitly set eval_metric if you'd like to restore the old behavior.\n"
     ]
    },
    {
     "name": "stderr",
     "output_type": "stream",
     "text": [
      "C:\\Users\\marti\\anaconda3\\envs\\datasc\\lib\\site-packages\\xgboost\\sklearn.py:1224: UserWarning: The use of label encoder in XGBClassifier is deprecated and will be removed in a future release. To remove this warning, do the following: 1) Pass option use_label_encoder=False when constructing XGBClassifier object; and 2) Encode your labels (y) as integers starting with 0, i.e. 0, 1, 2, ..., [num_class - 1].\n",
      "  warnings.warn(label_encoder_deprecation_msg, UserWarning)\n",
      "C:\\Users\\marti\\anaconda3\\envs\\datasc\\lib\\site-packages\\xgboost\\data.py:250: FutureWarning: pandas.Int64Index is deprecated and will be removed from pandas in a future version. Use pandas.Index with the appropriate dtype instead.\n",
      "  elif isinstance(data.columns, (pd.Int64Index, pd.RangeIndex)):\n"
     ]
    },
    {
     "name": "stdout",
     "output_type": "stream",
     "text": [
      "[13:07:30] WARNING: ..\\src\\learner.cc:1115: Starting in XGBoost 1.3.0, the default evaluation metric used with the objective 'binary:logistic' was changed from 'error' to 'logloss'. Explicitly set eval_metric if you'd like to restore the old behavior.\n"
     ]
    },
    {
     "name": "stderr",
     "output_type": "stream",
     "text": [
      "C:\\Users\\marti\\anaconda3\\envs\\datasc\\lib\\site-packages\\xgboost\\sklearn.py:1224: UserWarning: The use of label encoder in XGBClassifier is deprecated and will be removed in a future release. To remove this warning, do the following: 1) Pass option use_label_encoder=False when constructing XGBClassifier object; and 2) Encode your labels (y) as integers starting with 0, i.e. 0, 1, 2, ..., [num_class - 1].\n",
      "  warnings.warn(label_encoder_deprecation_msg, UserWarning)\n",
      "C:\\Users\\marti\\anaconda3\\envs\\datasc\\lib\\site-packages\\xgboost\\data.py:250: FutureWarning: pandas.Int64Index is deprecated and will be removed from pandas in a future version. Use pandas.Index with the appropriate dtype instead.\n",
      "  elif isinstance(data.columns, (pd.Int64Index, pd.RangeIndex)):\n"
     ]
    },
    {
     "name": "stdout",
     "output_type": "stream",
     "text": [
      "[13:07:31] WARNING: ..\\src\\learner.cc:1115: Starting in XGBoost 1.3.0, the default evaluation metric used with the objective 'binary:logistic' was changed from 'error' to 'logloss'. Explicitly set eval_metric if you'd like to restore the old behavior.\n"
     ]
    },
    {
     "name": "stderr",
     "output_type": "stream",
     "text": [
      "C:\\Users\\marti\\anaconda3\\envs\\datasc\\lib\\site-packages\\xgboost\\sklearn.py:1224: UserWarning: The use of label encoder in XGBClassifier is deprecated and will be removed in a future release. To remove this warning, do the following: 1) Pass option use_label_encoder=False when constructing XGBClassifier object; and 2) Encode your labels (y) as integers starting with 0, i.e. 0, 1, 2, ..., [num_class - 1].\n",
      "  warnings.warn(label_encoder_deprecation_msg, UserWarning)\n",
      "C:\\Users\\marti\\anaconda3\\envs\\datasc\\lib\\site-packages\\xgboost\\data.py:250: FutureWarning: pandas.Int64Index is deprecated and will be removed from pandas in a future version. Use pandas.Index with the appropriate dtype instead.\n",
      "  elif isinstance(data.columns, (pd.Int64Index, pd.RangeIndex)):\n"
     ]
    },
    {
     "name": "stdout",
     "output_type": "stream",
     "text": [
      "[13:07:31] WARNING: ..\\src\\learner.cc:1115: Starting in XGBoost 1.3.0, the default evaluation metric used with the objective 'binary:logistic' was changed from 'error' to 'logloss'. Explicitly set eval_metric if you'd like to restore the old behavior.\n"
     ]
    },
    {
     "name": "stderr",
     "output_type": "stream",
     "text": [
      "C:\\Users\\marti\\anaconda3\\envs\\datasc\\lib\\site-packages\\xgboost\\sklearn.py:1224: UserWarning: The use of label encoder in XGBClassifier is deprecated and will be removed in a future release. To remove this warning, do the following: 1) Pass option use_label_encoder=False when constructing XGBClassifier object; and 2) Encode your labels (y) as integers starting with 0, i.e. 0, 1, 2, ..., [num_class - 1].\n",
      "  warnings.warn(label_encoder_deprecation_msg, UserWarning)\n",
      "C:\\Users\\marti\\anaconda3\\envs\\datasc\\lib\\site-packages\\xgboost\\data.py:250: FutureWarning: pandas.Int64Index is deprecated and will be removed from pandas in a future version. Use pandas.Index with the appropriate dtype instead.\n",
      "  elif isinstance(data.columns, (pd.Int64Index, pd.RangeIndex)):\n"
     ]
    },
    {
     "name": "stdout",
     "output_type": "stream",
     "text": [
      "[13:07:32] WARNING: ..\\src\\learner.cc:1115: Starting in XGBoost 1.3.0, the default evaluation metric used with the objective 'binary:logistic' was changed from 'error' to 'logloss'. Explicitly set eval_metric if you'd like to restore the old behavior.\n"
     ]
    },
    {
     "name": "stderr",
     "output_type": "stream",
     "text": [
      "C:\\Users\\marti\\anaconda3\\envs\\datasc\\lib\\site-packages\\xgboost\\sklearn.py:1224: UserWarning: The use of label encoder in XGBClassifier is deprecated and will be removed in a future release. To remove this warning, do the following: 1) Pass option use_label_encoder=False when constructing XGBClassifier object; and 2) Encode your labels (y) as integers starting with 0, i.e. 0, 1, 2, ..., [num_class - 1].\n",
      "  warnings.warn(label_encoder_deprecation_msg, UserWarning)\n",
      "C:\\Users\\marti\\anaconda3\\envs\\datasc\\lib\\site-packages\\xgboost\\data.py:250: FutureWarning: pandas.Int64Index is deprecated and will be removed from pandas in a future version. Use pandas.Index with the appropriate dtype instead.\n",
      "  elif isinstance(data.columns, (pd.Int64Index, pd.RangeIndex)):\n"
     ]
    },
    {
     "name": "stdout",
     "output_type": "stream",
     "text": [
      "[13:07:32] WARNING: ..\\src\\learner.cc:1115: Starting in XGBoost 1.3.0, the default evaluation metric used with the objective 'binary:logistic' was changed from 'error' to 'logloss'. Explicitly set eval_metric if you'd like to restore the old behavior.\n"
     ]
    },
    {
     "name": "stderr",
     "output_type": "stream",
     "text": [
      "C:\\Users\\marti\\anaconda3\\envs\\datasc\\lib\\site-packages\\xgboost\\sklearn.py:1224: UserWarning: The use of label encoder in XGBClassifier is deprecated and will be removed in a future release. To remove this warning, do the following: 1) Pass option use_label_encoder=False when constructing XGBClassifier object; and 2) Encode your labels (y) as integers starting with 0, i.e. 0, 1, 2, ..., [num_class - 1].\n",
      "  warnings.warn(label_encoder_deprecation_msg, UserWarning)\n",
      "C:\\Users\\marti\\anaconda3\\envs\\datasc\\lib\\site-packages\\xgboost\\data.py:250: FutureWarning: pandas.Int64Index is deprecated and will be removed from pandas in a future version. Use pandas.Index with the appropriate dtype instead.\n",
      "  elif isinstance(data.columns, (pd.Int64Index, pd.RangeIndex)):\n"
     ]
    },
    {
     "name": "stdout",
     "output_type": "stream",
     "text": [
      "[13:07:33] WARNING: ..\\src\\learner.cc:1115: Starting in XGBoost 1.3.0, the default evaluation metric used with the objective 'binary:logistic' was changed from 'error' to 'logloss'. Explicitly set eval_metric if you'd like to restore the old behavior.\n"
     ]
    },
    {
     "name": "stderr",
     "output_type": "stream",
     "text": [
      "C:\\Users\\marti\\anaconda3\\envs\\datasc\\lib\\site-packages\\xgboost\\sklearn.py:1224: UserWarning: The use of label encoder in XGBClassifier is deprecated and will be removed in a future release. To remove this warning, do the following: 1) Pass option use_label_encoder=False when constructing XGBClassifier object; and 2) Encode your labels (y) as integers starting with 0, i.e. 0, 1, 2, ..., [num_class - 1].\n",
      "  warnings.warn(label_encoder_deprecation_msg, UserWarning)\n",
      "C:\\Users\\marti\\anaconda3\\envs\\datasc\\lib\\site-packages\\xgboost\\data.py:250: FutureWarning: pandas.Int64Index is deprecated and will be removed from pandas in a future version. Use pandas.Index with the appropriate dtype instead.\n",
      "  elif isinstance(data.columns, (pd.Int64Index, pd.RangeIndex)):\n"
     ]
    },
    {
     "name": "stdout",
     "output_type": "stream",
     "text": [
      "[13:07:33] WARNING: ..\\src\\learner.cc:1115: Starting in XGBoost 1.3.0, the default evaluation metric used with the objective 'binary:logistic' was changed from 'error' to 'logloss'. Explicitly set eval_metric if you'd like to restore the old behavior.\n"
     ]
    },
    {
     "name": "stderr",
     "output_type": "stream",
     "text": [
      "C:\\Users\\marti\\anaconda3\\envs\\datasc\\lib\\site-packages\\xgboost\\sklearn.py:1224: UserWarning: The use of label encoder in XGBClassifier is deprecated and will be removed in a future release. To remove this warning, do the following: 1) Pass option use_label_encoder=False when constructing XGBClassifier object; and 2) Encode your labels (y) as integers starting with 0, i.e. 0, 1, 2, ..., [num_class - 1].\n",
      "  warnings.warn(label_encoder_deprecation_msg, UserWarning)\n",
      "C:\\Users\\marti\\anaconda3\\envs\\datasc\\lib\\site-packages\\xgboost\\data.py:250: FutureWarning: pandas.Int64Index is deprecated and will be removed from pandas in a future version. Use pandas.Index with the appropriate dtype instead.\n",
      "  elif isinstance(data.columns, (pd.Int64Index, pd.RangeIndex)):\n"
     ]
    },
    {
     "name": "stdout",
     "output_type": "stream",
     "text": [
      "[13:07:34] WARNING: ..\\src\\learner.cc:1115: Starting in XGBoost 1.3.0, the default evaluation metric used with the objective 'binary:logistic' was changed from 'error' to 'logloss'. Explicitly set eval_metric if you'd like to restore the old behavior.\n"
     ]
    },
    {
     "data": {
      "text/html": [
       "<div>\n",
       "<style scoped>\n",
       "    .dataframe tbody tr th:only-of-type {\n",
       "        vertical-align: middle;\n",
       "    }\n",
       "\n",
       "    .dataframe tbody tr th {\n",
       "        vertical-align: top;\n",
       "    }\n",
       "\n",
       "    .dataframe thead th {\n",
       "        text-align: right;\n",
       "    }\n",
       "</style>\n",
       "<table border=\"1\" class=\"dataframe\">\n",
       "  <thead>\n",
       "    <tr style=\"text-align: right;\">\n",
       "      <th></th>\n",
       "      <th>Logistic Regression</th>\n",
       "      <th>K Neighbor Classifier</th>\n",
       "      <th>Linear Discriminant Analysis</th>\n",
       "      <th>Quadratic Discriminant Analysis</th>\n",
       "      <th>Support Vector Classifier</th>\n",
       "      <th>Decision Tree</th>\n",
       "      <th>Random Forest</th>\n",
       "      <th>Gaussian Naive Bayes</th>\n",
       "      <th>XGBoost</th>\n",
       "      <th>XGRandomForest</th>\n",
       "      <th>Light XGB</th>\n",
       "      <th>Best Score</th>\n",
       "    </tr>\n",
       "  </thead>\n",
       "  <tbody>\n",
       "    <tr>\n",
       "      <th>Accuracy</th>\n",
       "      <td>0.849777</td>\n",
       "      <td>0.837722</td>\n",
       "      <td>0.838413</td>\n",
       "      <td>0.499653</td>\n",
       "      <td>0.849777</td>\n",
       "      <td>0.813114</td>\n",
       "      <td>0.864289</td>\n",
       "      <td>0.721896</td>\n",
       "      <td>0.871622</td>\n",
       "      <td>0.844940</td>\n",
       "      <td>0.874117</td>\n",
       "      <td>Light XGB</td>\n",
       "    </tr>\n",
       "    <tr>\n",
       "      <th>f1_score</th>\n",
       "      <td>0.656129</td>\n",
       "      <td>0.646348</td>\n",
       "      <td>0.629927</td>\n",
       "      <td>0.484454</td>\n",
       "      <td>0.652815</td>\n",
       "      <td>0.614919</td>\n",
       "      <td>0.691728</td>\n",
       "      <td>0.609658</td>\n",
       "      <td>0.705696</td>\n",
       "      <td>0.616034</td>\n",
       "      <td>0.717004</td>\n",
       "      <td>Light XGB</td>\n",
       "    </tr>\n",
       "    <tr>\n",
       "      <th>precision</th>\n",
       "      <td>0.730751</td>\n",
       "      <td>0.680333</td>\n",
       "      <td>0.701900</td>\n",
       "      <td>0.322342</td>\n",
       "      <td>0.735747</td>\n",
       "      <td>0.610324</td>\n",
       "      <td>0.763437</td>\n",
       "      <td>0.461214</td>\n",
       "      <td>0.787735</td>\n",
       "      <td>0.763214</td>\n",
       "      <td>0.781879</td>\n",
       "      <td>XGBoost</td>\n",
       "    </tr>\n",
       "    <tr>\n",
       "      <th>recall</th>\n",
       "      <td>0.595720</td>\n",
       "      <td>0.615816</td>\n",
       "      <td>0.571648</td>\n",
       "      <td>0.975290</td>\n",
       "      <td>0.587112</td>\n",
       "      <td>0.619798</td>\n",
       "      <td>0.632549</td>\n",
       "      <td>0.900205</td>\n",
       "      <td>0.639562</td>\n",
       "      <td>0.516815</td>\n",
       "      <td>0.662362</td>\n",
       "      <td>Quadratic Discriminant Analysis</td>\n",
       "    </tr>\n",
       "    <tr>\n",
       "      <th>log_loss</th>\n",
       "      <td>5.188568</td>\n",
       "      <td>5.604929</td>\n",
       "      <td>5.581060</td>\n",
       "      <td>17.281778</td>\n",
       "      <td>5.188560</td>\n",
       "      <td>6.454884</td>\n",
       "      <td>4.687333</td>\n",
       "      <td>9.605576</td>\n",
       "      <td>4.434069</td>\n",
       "      <td>5.355612</td>\n",
       "      <td>4.347885</td>\n",
       "      <td>Quadratic Discriminant Analysis</td>\n",
       "    </tr>\n",
       "  </tbody>\n",
       "</table>\n",
       "</div>"
      ],
      "text/plain": [
       "           Logistic Regression  K Neighbor Classifier  \\\n",
       "Accuracy              0.849777               0.837722   \n",
       "f1_score              0.656129               0.646348   \n",
       "precision             0.730751               0.680333   \n",
       "recall                0.595720               0.615816   \n",
       "log_loss              5.188568               5.604929   \n",
       "\n",
       "           Linear Discriminant Analysis  Quadratic Discriminant Analysis  \\\n",
       "Accuracy                       0.838413                         0.499653   \n",
       "f1_score                       0.629927                         0.484454   \n",
       "precision                      0.701900                         0.322342   \n",
       "recall                         0.571648                         0.975290   \n",
       "log_loss                       5.581060                        17.281778   \n",
       "\n",
       "           Support Vector Classifier  Decision Tree  Random Forest  \\\n",
       "Accuracy                    0.849777       0.813114       0.864289   \n",
       "f1_score                    0.652815       0.614919       0.691728   \n",
       "precision                   0.735747       0.610324       0.763437   \n",
       "recall                      0.587112       0.619798       0.632549   \n",
       "log_loss                    5.188560       6.454884       4.687333   \n",
       "\n",
       "           Gaussian Naive Bayes   XGBoost  XGRandomForest  Light XGB  \\\n",
       "Accuracy               0.721896  0.871622        0.844940   0.874117   \n",
       "f1_score               0.609658  0.705696        0.616034   0.717004   \n",
       "precision              0.461214  0.787735        0.763214   0.781879   \n",
       "recall                 0.900205  0.639562        0.516815   0.662362   \n",
       "log_loss               9.605576  4.434069        5.355612   4.347885   \n",
       "\n",
       "                                Best Score  \n",
       "Accuracy                         Light XGB  \n",
       "f1_score                         Light XGB  \n",
       "precision                          XGBoost  \n",
       "recall     Quadratic Discriminant Analysis  \n",
       "log_loss   Quadratic Discriminant Analysis  "
      ]
     },
     "execution_count": 172,
     "metadata": {},
     "output_type": "execute_result"
    }
   ],
   "source": [
    "# Run models_evaluation function\n",
    "models_accuracy_cv(X_train,y_train,10)"
   ]
  },
  {
   "cell_type": "markdown",
   "id": "9b92dd3f",
   "metadata": {},
   "source": [
    "##### Results interpretation\n",
    "\n",
    "    The model that has higher accuracy and f1_score is the Light XGB model, while QDA has better recall and log loss, and XGBoost has the best precision. I found the most important metric the F1 score which is the harmonic mean between precision and recall, giving each one the same weighting. So it allows to evaluate a model taking into account both precision and recall using a single score, which is useful when describing model performance and comparing models. In order to this metric and the results obtained in the other metrics whith respect to the score of the best model in that metric, I select the Light XGB model \n",
    "    \n",
    "    In addition, I found the results obtained by the QDA model overfitting the problem classification task. \n",
    "    \n",
    "    And the best score for the log loss metric is obtained by the Light XGB due to the fact that the objective when calculating thi smetric is to minimize it, whereas when calculating all the other metrics is to maximice it. "
   ]
  },
  {
   "cell_type": "code",
   "execution_count": 63,
   "id": "da4ff671",
   "metadata": {},
   "outputs": [],
   "source": [
    "lxgb_model = LGBMClassifier(n_estimators=100)"
   ]
  },
  {
   "cell_type": "code",
   "execution_count": 75,
   "id": "895fa2f0",
   "metadata": {},
   "outputs": [],
   "source": [
    "parameters = {'n_estimators': [50,100,200],\n",
    "            'num_leaves':[20,31,35,40], \n",
    "              'min_child_samples':[5,20],\n",
    "              'max_depth':[-1,5,10,20],\n",
    "             'learning_rate':[0.05,0.1],\n",
    "              'reg_alpha':[0,0.01,0.03]}"
   ]
  },
  {
   "cell_type": "code",
   "execution_count": 76,
   "id": "f3e15c05",
   "metadata": {
    "scrolled": true
   },
   "outputs": [
    {
     "name": "stdout",
     "output_type": "stream",
     "text": [
      "Fitting 10 folds for each of 576 candidates, totalling 5760 fits\n",
      "{'learning_rate': 0.05, 'max_depth': -1, 'min_child_samples': 5, 'n_estimators': 200, 'num_leaves': 35, 'reg_alpha': 0.01}\n",
      "0.7203976800850331\n"
     ]
    }
   ],
   "source": [
    "scoring = {'accuracy':make_scorer(accuracy_score),\n",
    "           'f1_score':make_scorer(f1_score),\n",
    "           'precision_score':make_scorer(precision_score),\n",
    "           'recall_score':make_scorer(recall_score),\n",
    "           'log_loss':make_scorer(log_loss)\n",
    "          }\n",
    "\n",
    "grid = GridSearchCV(lxgb_model, parameters, verbose=1, cv=10, n_jobs=-1, scoring=scoring, refit=\"f1_score\")\n",
    "# Run the grid\n",
    "grid.fit(X_train, y_train)\n",
    "\n",
    "# Print the best parameters found\n",
    "print(grid.best_params_)\n",
    "print(grid.best_score_)"
   ]
  },
  {
   "cell_type": "code",
   "execution_count": 77,
   "id": "70ed8c16",
   "metadata": {},
   "outputs": [],
   "source": [
    "model = LGBMClassifier(\n",
    "    learning_rate= 0.05,\n",
    "    max_depth =-1, \n",
    "    min_child_samples= 5,\n",
    "    n_estimators= 200,\n",
    "    num_leaves=  35,\n",
    "    reg_alpha =0.01)"
   ]
  },
  {
   "cell_type": "code",
   "execution_count": 78,
   "id": "d174c6f3",
   "metadata": {
    "scrolled": true
   },
   "outputs": [
    {
     "data": {
      "text/plain": [
       "LGBMClassifier(learning_rate=0.05, min_child_samples=5, n_estimators=200,\n",
       "               num_leaves=35, reg_alpha=0.01)"
      ]
     },
     "execution_count": 78,
     "metadata": {},
     "output_type": "execute_result"
    }
   ],
   "source": [
    "model.fit(X_train, y_train)"
   ]
  },
  {
   "cell_type": "code",
   "execution_count": 79,
   "id": "63c1bfc5",
   "metadata": {},
   "outputs": [],
   "source": [
    "y_predict = model.predict(X_test)"
   ]
  },
  {
   "cell_type": "code",
   "execution_count": 80,
   "id": "e6059153",
   "metadata": {},
   "outputs": [
    {
     "data": {
      "text/html": [
       "<div>\n",
       "<style scoped>\n",
       "    .dataframe tbody tr th:only-of-type {\n",
       "        vertical-align: middle;\n",
       "    }\n",
       "\n",
       "    .dataframe tbody tr th {\n",
       "        vertical-align: top;\n",
       "    }\n",
       "\n",
       "    .dataframe thead th {\n",
       "        text-align: right;\n",
       "    }\n",
       "</style>\n",
       "<table border=\"1\" class=\"dataframe\">\n",
       "  <thead>\n",
       "    <tr style=\"text-align: right;\">\n",
       "      <th></th>\n",
       "      <th>accuracy</th>\n",
       "      <th>f1_score</th>\n",
       "      <th>precision_score</th>\n",
       "      <th>recall_score</th>\n",
       "      <th>log_loss</th>\n",
       "    </tr>\n",
       "  </thead>\n",
       "  <tbody>\n",
       "    <tr>\n",
       "      <th>Final Model</th>\n",
       "      <td>0.870874</td>\n",
       "      <td>0.708896</td>\n",
       "      <td>0.77517</td>\n",
       "      <td>0.653061</td>\n",
       "      <td>4.459903</td>\n",
       "    </tr>\n",
       "  </tbody>\n",
       "</table>\n",
       "</div>"
      ],
      "text/plain": [
       "             accuracy  f1_score  precision_score  recall_score  log_loss\n",
       "Final Model  0.870874  0.708896          0.77517      0.653061  4.459903"
      ]
     },
     "execution_count": 80,
     "metadata": {},
     "output_type": "execute_result"
    }
   ],
   "source": [
    "# Final metrics in test data set:\n",
    "final = pd.DataFrame([{\n",
    "    'accuracy': accuracy_score(y_test,y_predict),\n",
    "    'f1_score': f1_score(y_test,y_predict),\n",
    "    'precision_score': precision_score(y_test,y_predict),\n",
    "    'recall_score': recall_score(y_test,y_predict),\n",
    "    'log_loss': log_loss(y_test,y_predict)\n",
    "}], index=[\"Final Model\"]\n",
    ")\n",
    "\n",
    "final.head()"
   ]
  },
  {
   "cell_type": "markdown",
   "id": "b71d9794",
   "metadata": {},
   "source": [
    "# Final model training"
   ]
  },
  {
   "cell_type": "code",
   "execution_count": null,
   "id": "0d181c91",
   "metadata": {},
   "outputs": [],
   "source": [
    "# Primero voy a dividir los datos\n",
    "from sklearn.model_selection import train_test_split\n",
    "\n",
    "X = df_proc.loc[:, df_proc.columns != \"salary-num\"]\n",
    "y = df_proc[\"salary-num\"]\n",
    "\n",
    "X_train, X_test, y_train, y_test = train_test_split(X, y, test_size=0.2, random_state=1, stratify=y)"
   ]
  },
  {
   "cell_type": "code",
   "execution_count": 115,
   "id": "87b34457",
   "metadata": {},
   "outputs": [],
   "source": [
    "model = LGBMClassifier(\n",
    "    learning_rate= 0.05,\n",
    "    max_depth =-1, \n",
    "    min_child_samples= 5,\n",
    "    n_estimators= 200,\n",
    "    num_leaves=  35,\n",
    "    reg_alpha =0.01)"
   ]
  },
  {
   "cell_type": "code",
   "execution_count": 116,
   "id": "91d5f2f3",
   "metadata": {},
   "outputs": [
    {
     "data": {
      "text/plain": [
       "LGBMClassifier(learning_rate=0.05, min_child_samples=5, n_estimators=200,\n",
       "               num_leaves=35, reg_alpha=0.01)"
      ]
     },
     "execution_count": 116,
     "metadata": {},
     "output_type": "execute_result"
    }
   ],
   "source": [
    "model.fit(X_train, y_train)"
   ]
  },
  {
   "cell_type": "code",
   "execution_count": 117,
   "id": "2b273134",
   "metadata": {},
   "outputs": [],
   "source": [
    "y_predict = model.predict(X_test)"
   ]
  },
  {
   "cell_type": "code",
   "execution_count": 118,
   "id": "036117e3",
   "metadata": {
    "scrolled": false
   },
   "outputs": [
    {
     "data": {
      "text/html": [
       "<div>\n",
       "<style scoped>\n",
       "    .dataframe tbody tr th:only-of-type {\n",
       "        vertical-align: middle;\n",
       "    }\n",
       "\n",
       "    .dataframe tbody tr th {\n",
       "        vertical-align: top;\n",
       "    }\n",
       "\n",
       "    .dataframe thead th {\n",
       "        text-align: right;\n",
       "    }\n",
       "</style>\n",
       "<table border=\"1\" class=\"dataframe\">\n",
       "  <thead>\n",
       "    <tr style=\"text-align: right;\">\n",
       "      <th></th>\n",
       "      <th>accuracy</th>\n",
       "      <th>f1_score</th>\n",
       "      <th>precision_score</th>\n",
       "      <th>recall_score</th>\n",
       "      <th>log_loss</th>\n",
       "    </tr>\n",
       "  </thead>\n",
       "  <tbody>\n",
       "    <tr>\n",
       "      <th>Final Model</th>\n",
       "      <td>0.870874</td>\n",
       "      <td>0.70829</td>\n",
       "      <td>0.776426</td>\n",
       "      <td>0.651148</td>\n",
       "      <td>4.459903</td>\n",
       "    </tr>\n",
       "  </tbody>\n",
       "</table>\n",
       "</div>"
      ],
      "text/plain": [
       "             accuracy  f1_score  precision_score  recall_score  log_loss\n",
       "Final Model  0.870874   0.70829         0.776426      0.651148  4.459903"
      ]
     },
     "execution_count": 118,
     "metadata": {},
     "output_type": "execute_result"
    }
   ],
   "source": [
    "# Final metrics in test data set:\n",
    "final = pd.DataFrame([{\n",
    "    'accuracy': accuracy_score(y_test,y_predict),\n",
    "    'f1_score': f1_score(y_test,y_predict),\n",
    "    'precision_score': precision_score(y_test,y_predict),\n",
    "    'recall_score': recall_score(y_test,y_predict),\n",
    "    'log_loss': log_loss(y_test,y_predict)\n",
    "}], index=[\"Final Model\"]\n",
    ")\n",
    "\n",
    "final.head()"
   ]
  },
  {
   "cell_type": "markdown",
   "id": "76b7c7fd",
   "metadata": {},
   "source": [
    "### Example as I recibe a query"
   ]
  },
  {
   "cell_type": "code",
   "execution_count": 23,
   "id": "d51d46c7",
   "metadata": {},
   "outputs": [
    {
     "data": {
      "text/plain": [
       "'[{\"age\":39,\"workclass\":\" State-gov\",\"fnlwgt\":77516,\"education\":\" Bachelors\",\"education-num\":13,\"marital-status\":\" Never-married\",\"occupation\":\" Adm-clerical\",\"relationship\":\" Not-in-family\",\"race\":\" White\",\"sex\":\" Male\",\"capital-gain\":2174,\"capital-loss\":0,\"hours-per-week\":40,\"native-country\":\" United-States\",\"salary\":\" <=50K\",\"capital-total\":2174,\"salary-num\":0}]'"
      ]
     },
     "execution_count": 23,
     "metadata": {},
     "output_type": "execute_result"
    }
   ],
   "source": [
    "datos.iloc[[0]].to_json(orient=\"records\")"
   ]
  },
  {
   "cell_type": "code",
   "execution_count": 24,
   "id": "43b9ea12",
   "metadata": {},
   "outputs": [],
   "source": [
    "query = {\n",
    "    \"age\":39,\n",
    "    \"workclass\":\" State-gov\",\n",
    "    \"fnlwgt\":77516,\n",
    "    \"education-num\":13,\n",
    "    \"marital-status\":\" Never-married\",\n",
    "    \"occupation\":\" Adm-clerical\",\n",
    "    \"relationship\":\" Not-in-family\",\n",
    "    \"race\":\" White\",\n",
    "    \"sex\":\" Male\",\n",
    "    \"capital-gain\":2174,\n",
    "    \"capital-loss\":0,\n",
    "    \"hours-per-week\":40,\n",
    "    \"native-country\":\" United-States\",\n",
    "    \"capital-total\":2174\n",
    "    }"
   ]
  },
  {
   "cell_type": "code",
   "execution_count": 30,
   "id": "5d1ac284",
   "metadata": {},
   "outputs": [
    {
     "data": {
      "text/html": [
       "<div>\n",
       "<style scoped>\n",
       "    .dataframe tbody tr th:only-of-type {\n",
       "        vertical-align: middle;\n",
       "    }\n",
       "\n",
       "    .dataframe tbody tr th {\n",
       "        vertical-align: top;\n",
       "    }\n",
       "\n",
       "    .dataframe thead th {\n",
       "        text-align: right;\n",
       "    }\n",
       "</style>\n",
       "<table border=\"1\" class=\"dataframe\">\n",
       "  <thead>\n",
       "    <tr style=\"text-align: right;\">\n",
       "      <th></th>\n",
       "      <th>age</th>\n",
       "      <th>workclass</th>\n",
       "      <th>fnlwgt</th>\n",
       "      <th>education-num</th>\n",
       "      <th>marital-status</th>\n",
       "      <th>occupation</th>\n",
       "      <th>relationship</th>\n",
       "      <th>race</th>\n",
       "      <th>sex</th>\n",
       "      <th>capital-gain</th>\n",
       "      <th>capital-loss</th>\n",
       "      <th>hours-per-week</th>\n",
       "      <th>native-country</th>\n",
       "      <th>capital-total</th>\n",
       "    </tr>\n",
       "  </thead>\n",
       "  <tbody>\n",
       "    <tr>\n",
       "      <th>0</th>\n",
       "      <td>39</td>\n",
       "      <td>State-gov</td>\n",
       "      <td>77516</td>\n",
       "      <td>13</td>\n",
       "      <td>Never-married</td>\n",
       "      <td>Adm-clerical</td>\n",
       "      <td>Not-in-family</td>\n",
       "      <td>White</td>\n",
       "      <td>Male</td>\n",
       "      <td>2174</td>\n",
       "      <td>0</td>\n",
       "      <td>40</td>\n",
       "      <td>United-States</td>\n",
       "      <td>2174</td>\n",
       "    </tr>\n",
       "  </tbody>\n",
       "</table>\n",
       "</div>"
      ],
      "text/plain": [
       "   age   workclass  fnlwgt  education-num  marital-status     occupation  \\\n",
       "0   39   State-gov   77516             13   Never-married   Adm-clerical   \n",
       "\n",
       "     relationship    race    sex  capital-gain  capital-loss  hours-per-week  \\\n",
       "0   Not-in-family   White   Male          2174             0              40   \n",
       "\n",
       "   native-country  capital-total  \n",
       "0   United-States           2174  "
      ]
     },
     "execution_count": 30,
     "metadata": {},
     "output_type": "execute_result"
    }
   ],
   "source": [
    "query_df=pd.json_normalize(query)\n",
    "query_df.head()"
   ]
  },
  {
   "cell_type": "markdown",
   "id": "ab110cf8",
   "metadata": {},
   "source": [
    "    Preprocessing"
   ]
  },
  {
   "cell_type": "code",
   "execution_count": 143,
   "id": "41531994",
   "metadata": {},
   "outputs": [],
   "source": [
    "scale_var = [\"age\",\"fnlwgt\",\"capital-gain\",\"capital-loss\",\"hours-per-week\",\"capital-total\"] \n",
    "query_df[numericas]=scaler.transform(query_df[numericas])"
   ]
  },
  {
   "cell_type": "code",
   "execution_count": 144,
   "id": "03d8315e",
   "metadata": {},
   "outputs": [],
   "source": [
    "query_df[\"race\"]=encoder_R.transform(query_df[\"race\"])"
   ]
  },
  {
   "cell_type": "code",
   "execution_count": 145,
   "id": "df6656b8",
   "metadata": {},
   "outputs": [],
   "source": [
    "query_df[\"workclass\"]=encoder_W.transform(query_df[\"workclass\"])"
   ]
  },
  {
   "cell_type": "code",
   "execution_count": 146,
   "id": "389fbdfc",
   "metadata": {},
   "outputs": [],
   "source": [
    "query_df[\"native-country\"]=encoder_NC.transform(query_df[\"native-country\"])"
   ]
  },
  {
   "cell_type": "code",
   "execution_count": 150,
   "id": "cc92e020",
   "metadata": {},
   "outputs": [],
   "source": [
    "# Numerical variables at this step\n",
    "numerical = [\"age\",\"fnlwgt\",\"capital-gain\",\"capital-loss\",\"hours-per-week\",\"capital-total\",\"education-num\",\"race\",\"native-country\",\"workclass\"]\n",
    "\n",
    "# Categorical variables in which I want to perform DictVectorizer, so as to save the model and use it in the future. \n",
    "categorical = [\"marital-status\",\"occupation\",\"relationship\",\"sex\"]"
   ]
  },
  {
   "cell_type": "code",
   "execution_count": 151,
   "id": "8eeb9086",
   "metadata": {},
   "outputs": [],
   "source": [
    "query_dict = query_df[categorical + numerical].to_dict(orient='records')\n",
    "X_query = dv.transform(query_dict)"
   ]
  },
  {
   "cell_type": "code",
   "execution_count": 160,
   "id": "ae1ac90e",
   "metadata": {},
   "outputs": [],
   "source": [
    "query_prob = model.predict_proba(X_query)[0, 1]\n",
    "query_predict = model.predict(X_query)"
   ]
  },
  {
   "cell_type": "code",
   "execution_count": 163,
   "id": "6107011d",
   "metadata": {},
   "outputs": [
    {
     "name": "stdout",
     "output_type": "stream",
     "text": [
      "{'Salary': {0: '<=50K'}, 'Probability': {0: 0.019151685741721873}, 'Class-predicted': {0: 0}}\n"
     ]
    }
   ],
   "source": [
    "if query_prob <= 0.5:\n",
    "    salary = \"<=50K\"\n",
    "else:\n",
    "    salary = \">50K\"\n",
    "\n",
    "response = {'Salary': {0: salary},\n",
    " 'Probability': {0: query_prob},\n",
    " 'Class-predicted': {0: query_predict[0]}\n",
    "            }\n",
    "\n",
    "print(response)"
   ]
  }
 ],
 "metadata": {
  "kernelspec": {
   "display_name": "Python 3 (ipykernel)",
   "language": "python",
   "name": "python3"
  },
  "language_info": {
   "codemirror_mode": {
    "name": "ipython",
    "version": 3
   },
   "file_extension": ".py",
   "mimetype": "text/x-python",
   "name": "python",
   "nbconvert_exporter": "python",
   "pygments_lexer": "ipython3",
   "version": "3.9.13"
  },
  "vscode": {
   "interpreter": {
    "hash": "01be8d091292fd149de7e6b1d36701349e6795ad56fd814c98a7c335e372b952"
   }
  }
 },
 "nbformat": 4,
 "nbformat_minor": 5
}
